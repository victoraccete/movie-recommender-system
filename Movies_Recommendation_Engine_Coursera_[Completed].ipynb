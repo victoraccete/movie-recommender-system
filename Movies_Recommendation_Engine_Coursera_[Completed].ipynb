{
  "nbformat": 4,
  "nbformat_minor": 0,
  "metadata": {
    "colab": {
      "name": "Movies Recommendation Engine - Coursera [Completed]",
      "provenance": [],
      "collapsed_sections": [],
      "toc_visible": true
    },
    "kernelspec": {
      "name": "python3",
      "display_name": "Python 3"
    }
  },
  "cells": [
    {
      "cell_type": "markdown",
      "metadata": {
        "id": "u_0oQaUOA9CI",
        "colab_type": "text"
      },
      "source": [
        "# Task 1: Introduction\n",
        "\n",
        "![Movies Collage](https://i.imgur.com/T7V0VZ6.png)\n",
        "\n",
        "For this project we are going to create a recommendation engine for movies for users based on there past behaviour.\n",
        "\n",
        "---\n",
        "\n",
        "We will focus on the **collaborative filtering** approach, that is: \n",
        "\n",
        "The user is recommended items that people with similar tastes and preferences liked in the past. In another word, this method predicts unknown ratings by using the similarities between users.\n",
        "\n",
        "---\n",
        "\n",
        "Note: This notebook uses `python 3` and these packages: `pandas`, `numpy`, `matplotlib` and `scikit-surprise`\n",
        "\n",
        "We can install them using:\n",
        "```Shell\n",
        "pip3 install pandas matplotlib numpy scikit-surprise\n",
        "```"
      ]
    },
    {
      "cell_type": "markdown",
      "metadata": {
        "id": "eMZcgcQsm-9y",
        "colab_type": "text"
      },
      "source": [
        "## 1.1: Installing Libraries"
      ]
    },
    {
      "cell_type": "code",
      "metadata": {
        "id": "HNmYMKhCnITm",
        "colab_type": "code",
        "colab": {
          "base_uri": "https://localhost:8080/",
          "height": 252
        },
        "outputId": "9897054c-43a8-4add-ecc2-72caf4da5271"
      },
      "source": [
        "print('>> Installing Libraries')\n",
        "\n",
        "!pip3 install pandas matplotlib numpy scikit-surprise\n",
        "\n",
        "print('>> Libraries Installed')"
      ],
      "execution_count": 55,
      "outputs": [
        {
          "output_type": "stream",
          "text": [
            ">> Installing Libraries\n",
            "Requirement already satisfied: pandas in /usr/local/lib/python3.6/dist-packages (1.0.5)\n",
            "Requirement already satisfied: matplotlib in /usr/local/lib/python3.6/dist-packages (3.2.2)\n",
            "Requirement already satisfied: numpy in /usr/local/lib/python3.6/dist-packages (1.18.5)\n",
            "Requirement already satisfied: scikit-surprise in /usr/local/lib/python3.6/dist-packages (1.1.1)\n",
            "Requirement already satisfied: pytz>=2017.2 in /usr/local/lib/python3.6/dist-packages (from pandas) (2018.9)\n",
            "Requirement already satisfied: python-dateutil>=2.6.1 in /usr/local/lib/python3.6/dist-packages (from pandas) (2.8.1)\n",
            "Requirement already satisfied: pyparsing!=2.0.4,!=2.1.2,!=2.1.6,>=2.0.1 in /usr/local/lib/python3.6/dist-packages (from matplotlib) (2.4.7)\n",
            "Requirement already satisfied: kiwisolver>=1.0.1 in /usr/local/lib/python3.6/dist-packages (from matplotlib) (1.2.0)\n",
            "Requirement already satisfied: cycler>=0.10 in /usr/local/lib/python3.6/dist-packages (from matplotlib) (0.10.0)\n",
            "Requirement already satisfied: scipy>=1.0.0 in /usr/local/lib/python3.6/dist-packages (from scikit-surprise) (1.4.1)\n",
            "Requirement already satisfied: joblib>=0.11 in /usr/local/lib/python3.6/dist-packages (from scikit-surprise) (0.16.0)\n",
            "Requirement already satisfied: six>=1.10.0 in /usr/local/lib/python3.6/dist-packages (from scikit-surprise) (1.15.0)\n",
            ">> Libraries Installed\n"
          ],
          "name": "stdout"
        }
      ]
    },
    {
      "cell_type": "markdown",
      "metadata": {
        "id": "FYwbN6KqJjPo",
        "colab_type": "text"
      },
      "source": [
        "## 1.2: Importing Libraries\n",
        "\n",
        "First of all, we will need to import some libraries. This includes surprise which we will use to create the recommendation system."
      ]
    },
    {
      "cell_type": "code",
      "metadata": {
        "id": "5OGYBAjxAzLC",
        "colab_type": "code",
        "colab": {
          "base_uri": "https://localhost:8080/",
          "height": 50
        },
        "outputId": "54fde954-4f5c-421b-d6e2-341ef13b6fa8"
      },
      "source": [
        "print('>> Importing Libraries')\n",
        "\n",
        "import pandas as pd\n",
        "\n",
        "from surprise import Reader, Dataset, SVD\n",
        "\n",
        "from surprise.accuracy import rmse, mae\n",
        "from surprise.model_selection import cross_validate\n",
        "\n",
        "print('>> Libraries imported.')"
      ],
      "execution_count": 56,
      "outputs": [
        {
          "output_type": "stream",
          "text": [
            ">> Importing Libraries\n",
            ">> Libraries imported.\n"
          ],
          "name": "stdout"
        }
      ]
    },
    {
      "cell_type": "markdown",
      "metadata": {
        "id": "Zg9d8GR6A_rr",
        "colab_type": "text"
      },
      "source": [
        "# Task 2: Importing Data\n",
        "\n",
        "We will use open-source dataset from GroupLens Research ([movielens.org](http://movielens.org))"
      ]
    },
    {
      "cell_type": "markdown",
      "metadata": {
        "id": "vS0k5tdWKSfZ",
        "colab_type": "text"
      },
      "source": [
        "## 2.1: Importing the Data\n",
        "\n",
        "The dataset is saved in a `ratings.csv` file. We will use pandas to take a look at some of the rows."
      ]
    },
    {
      "cell_type": "code",
      "metadata": {
        "id": "3lbOmdPwKsPm",
        "colab_type": "code",
        "colab": {
          "base_uri": "https://localhost:8080/",
          "height": 195
        },
        "outputId": "e525b379-82b1-4820-cdf5-e5c903cde1aa"
      },
      "source": [
        "df = pd.read_csv (\"ratings.csv\")\n",
        "df.head()"
      ],
      "execution_count": 57,
      "outputs": [
        {
          "output_type": "execute_result",
          "data": {
            "text/html": [
              "<div>\n",
              "<style scoped>\n",
              "    .dataframe tbody tr th:only-of-type {\n",
              "        vertical-align: middle;\n",
              "    }\n",
              "\n",
              "    .dataframe tbody tr th {\n",
              "        vertical-align: top;\n",
              "    }\n",
              "\n",
              "    .dataframe thead th {\n",
              "        text-align: right;\n",
              "    }\n",
              "</style>\n",
              "<table border=\"1\" class=\"dataframe\">\n",
              "  <thead>\n",
              "    <tr style=\"text-align: right;\">\n",
              "      <th></th>\n",
              "      <th>userId</th>\n",
              "      <th>movieId</th>\n",
              "      <th>rating</th>\n",
              "      <th>timestamp</th>\n",
              "    </tr>\n",
              "  </thead>\n",
              "  <tbody>\n",
              "    <tr>\n",
              "      <th>0</th>\n",
              "      <td>1</td>\n",
              "      <td>1</td>\n",
              "      <td>4.0</td>\n",
              "      <td>964982703</td>\n",
              "    </tr>\n",
              "    <tr>\n",
              "      <th>1</th>\n",
              "      <td>1</td>\n",
              "      <td>3</td>\n",
              "      <td>4.0</td>\n",
              "      <td>964981247</td>\n",
              "    </tr>\n",
              "    <tr>\n",
              "      <th>2</th>\n",
              "      <td>1</td>\n",
              "      <td>6</td>\n",
              "      <td>4.0</td>\n",
              "      <td>964982224</td>\n",
              "    </tr>\n",
              "    <tr>\n",
              "      <th>3</th>\n",
              "      <td>1</td>\n",
              "      <td>47</td>\n",
              "      <td>5.0</td>\n",
              "      <td>964983815</td>\n",
              "    </tr>\n",
              "    <tr>\n",
              "      <th>4</th>\n",
              "      <td>1</td>\n",
              "      <td>50</td>\n",
              "      <td>5.0</td>\n",
              "      <td>964982931</td>\n",
              "    </tr>\n",
              "  </tbody>\n",
              "</table>\n",
              "</div>"
            ],
            "text/plain": [
              "   userId  movieId  rating  timestamp\n",
              "0       1        1     4.0  964982703\n",
              "1       1        3     4.0  964981247\n",
              "2       1        6     4.0  964982224\n",
              "3       1       47     5.0  964983815\n",
              "4       1       50     5.0  964982931"
            ]
          },
          "metadata": {
            "tags": []
          },
          "execution_count": 57
        }
      ]
    },
    {
      "cell_type": "markdown",
      "metadata": {
        "id": "GvUhDQIgLOEY",
        "colab_type": "text"
      },
      "source": [
        "## 2.2 Dropping timestamp\n",
        "\n",
        "We won't be using the timestamp when user gave the particular rating. So we will drop that column."
      ]
    },
    {
      "cell_type": "code",
      "metadata": {
        "id": "TXvWh3duLjiP",
        "colab_type": "code",
        "colab": {
          "base_uri": "https://localhost:8080/",
          "height": 195
        },
        "outputId": "47e60d89-b40a-4411-a837-d5c32503427c"
      },
      "source": [
        "df.drop('timestamp', axis=1, inplace=True)\n",
        "df.head()"
      ],
      "execution_count": 58,
      "outputs": [
        {
          "output_type": "execute_result",
          "data": {
            "text/html": [
              "<div>\n",
              "<style scoped>\n",
              "    .dataframe tbody tr th:only-of-type {\n",
              "        vertical-align: middle;\n",
              "    }\n",
              "\n",
              "    .dataframe tbody tr th {\n",
              "        vertical-align: top;\n",
              "    }\n",
              "\n",
              "    .dataframe thead th {\n",
              "        text-align: right;\n",
              "    }\n",
              "</style>\n",
              "<table border=\"1\" class=\"dataframe\">\n",
              "  <thead>\n",
              "    <tr style=\"text-align: right;\">\n",
              "      <th></th>\n",
              "      <th>userId</th>\n",
              "      <th>movieId</th>\n",
              "      <th>rating</th>\n",
              "    </tr>\n",
              "  </thead>\n",
              "  <tbody>\n",
              "    <tr>\n",
              "      <th>0</th>\n",
              "      <td>1</td>\n",
              "      <td>1</td>\n",
              "      <td>4.0</td>\n",
              "    </tr>\n",
              "    <tr>\n",
              "      <th>1</th>\n",
              "      <td>1</td>\n",
              "      <td>3</td>\n",
              "      <td>4.0</td>\n",
              "    </tr>\n",
              "    <tr>\n",
              "      <th>2</th>\n",
              "      <td>1</td>\n",
              "      <td>6</td>\n",
              "      <td>4.0</td>\n",
              "    </tr>\n",
              "    <tr>\n",
              "      <th>3</th>\n",
              "      <td>1</td>\n",
              "      <td>47</td>\n",
              "      <td>5.0</td>\n",
              "    </tr>\n",
              "    <tr>\n",
              "      <th>4</th>\n",
              "      <td>1</td>\n",
              "      <td>50</td>\n",
              "      <td>5.0</td>\n",
              "    </tr>\n",
              "  </tbody>\n",
              "</table>\n",
              "</div>"
            ],
            "text/plain": [
              "   userId  movieId  rating\n",
              "0       1        1     4.0\n",
              "1       1        3     4.0\n",
              "2       1        6     4.0\n",
              "3       1       47     5.0\n",
              "4       1       50     5.0"
            ]
          },
          "metadata": {
            "tags": []
          },
          "execution_count": 58
        }
      ]
    },
    {
      "cell_type": "markdown",
      "metadata": {
        "id": "OPEBn0gAK-5m",
        "colab_type": "text"
      },
      "source": [
        "## 2.3 Check for Missing Data\n",
        "\n",
        "It's a good practice to check if the data has any missing values. In real world data, this is quite common and must be taken care of before any data pre-processing or model training."
      ]
    },
    {
      "cell_type": "code",
      "metadata": {
        "id": "BfBqk7KkLFV6",
        "colab_type": "code",
        "colab": {
          "base_uri": "https://localhost:8080/",
          "height": 84
        },
        "outputId": "94f9c7f7-6f9f-4ab5-9c08-0548e96b29ce"
      },
      "source": [
        "df.isna().sum()"
      ],
      "execution_count": 59,
      "outputs": [
        {
          "output_type": "execute_result",
          "data": {
            "text/plain": [
              "userId     0\n",
              "movieId    0\n",
              "rating     0\n",
              "dtype: int64"
            ]
          },
          "metadata": {
            "tags": []
          },
          "execution_count": 59
        }
      ]
    },
    {
      "cell_type": "markdown",
      "metadata": {
        "id": "FQYVA-J5MCUG",
        "colab_type": "text"
      },
      "source": [
        "# Task 3: EDA (Exploratory data analysis)\n",
        "\n",
        "In statistics, exploratory data analysis is an approach to analyzing data sets to summarize their main characteristics."
      ]
    },
    {
      "cell_type": "markdown",
      "metadata": {
        "id": "XJ0CD6ZiOpRI",
        "colab_type": "text"
      },
      "source": [
        "## 3.1 Number of movies/users"
      ]
    },
    {
      "cell_type": "code",
      "metadata": {
        "id": "vnEIeAO6Psj2",
        "colab_type": "code",
        "colab": {
          "base_uri": "https://localhost:8080/",
          "height": 50
        },
        "outputId": "1a125e7d-588c-4a40-bddd-72cce464cfbb"
      },
      "source": [
        "n_movies = df[\"movieId\"].nunique() \n",
        "n_users = df[\"userId\"].nunique() \n",
        "\n",
        "print(f'Number of movies: {n_movies}')\n",
        "print(f'Number of users: {n_users}')"
      ],
      "execution_count": 60,
      "outputs": [
        {
          "output_type": "stream",
          "text": [
            "Number of movies: 9724\n",
            "Number of users: 610\n"
          ],
          "name": "stdout"
        }
      ]
    },
    {
      "cell_type": "markdown",
      "metadata": {
        "id": "dclqP0iXOo_F",
        "colab_type": "text"
      },
      "source": [
        "## 3.2 Sparsity of our data\n",
        "\n",
        "Sparsity (%) = `(No of missing values/ (Total Values))X100`"
      ]
    },
    {
      "cell_type": "code",
      "metadata": {
        "id": "xPYF0zlfREMK",
        "colab_type": "code",
        "colab": {
          "base_uri": "https://localhost:8080/",
          "height": 50
        },
        "outputId": "736f8d3b-44e0-40c6-9649-6ee326566c35"
      },
      "source": [
        "available_ratings = df['rating'].count()\n",
        "total_ratings = n_movies * n_users\n",
        "missing_ratings = total_ratings - available_ratings\n",
        "sparsity = (missing_ratings/total_ratings)*100\n",
        "print(available_ratings, total_ratings, missing_ratings)\n",
        "print(f'{sparsity}%')"
      ],
      "execution_count": 61,
      "outputs": [
        {
          "output_type": "stream",
          "text": [
            "100836 5931640 5830804\n",
            "98.30003169443864%\n"
          ],
          "name": "stdout"
        }
      ]
    },
    {
      "cell_type": "markdown",
      "metadata": {
        "id": "kcYDLtG5Ok_p",
        "colab_type": "text"
      },
      "source": [
        "## 3.3 Ratings Distribution"
      ]
    },
    {
      "cell_type": "code",
      "metadata": {
        "id": "ZO7Mv-jdL4_z",
        "colab_type": "code",
        "colab": {
          "base_uri": "https://localhost:8080/",
          "height": 288
        },
        "outputId": "10fe8037-c46a-4c2c-d362-1042f052cbca"
      },
      "source": [
        "df['rating'].value_counts().plot(kind='bar')"
      ],
      "execution_count": 62,
      "outputs": [
        {
          "output_type": "execute_result",
          "data": {
            "text/plain": [
              "<matplotlib.axes._subplots.AxesSubplot at 0x7f00cb3716d8>"
            ]
          },
          "metadata": {
            "tags": []
          },
          "execution_count": 62
        },
        {
          "output_type": "display_data",
          "data": {
            "image/png": "[encoded data removed]",
            "text/plain": [
              "<Figure size 432x288 with 1 Axes>"
            ]
          },
          "metadata": {
            "tags": [],
            "needs_background": "light"
          }
        }
      ]
    },
    {
      "cell_type": "markdown",
      "metadata": {
        "id": "xdLsIItxSd9K",
        "colab_type": "text"
      },
      "source": [
        "# Task 4: Dimensionality Reduction\n",
        "\n",
        "To reduce the dimensionality of the dataset, we will filter out rarely rated movies and rarely rating users"
      ]
    },
    {
      "cell_type": "markdown",
      "metadata": {
        "id": "i3jYt3m5TNVL",
        "colab_type": "text"
      },
      "source": [
        "## 4.1 Filter movies with less than 3 ratings"
      ]
    },
    {
      "cell_type": "code",
      "metadata": {
        "id": "msZU9YSxSeUo",
        "colab_type": "code",
        "colab": {}
      },
      "source": [
        "min_ratings = 3\n",
        "filter_movies = df['movieId'].value_counts() > min_ratings\n",
        "filter_movies = filter_movies[filter_movies].index.tolist()"
      ],
      "execution_count": 63,
      "outputs": []
    },
    {
      "cell_type": "markdown",
      "metadata": {
        "id": "IYaMxlXcTdGS",
        "colab_type": "text"
      },
      "source": [
        "## 4.2 Filter users with less than 3 movies rated"
      ]
    },
    {
      "cell_type": "code",
      "metadata": {
        "id": "WPeNAggIS-Y_",
        "colab_type": "code",
        "colab": {}
      },
      "source": [
        "min_user_ratings = 3\n",
        "filter_users = df['userId'].value_counts() > min_user_ratings\n",
        "filter_users = filter_users[filter_users].index.tolist()"
      ],
      "execution_count": 64,
      "outputs": []
    },
    {
      "cell_type": "markdown",
      "metadata": {
        "id": "c2LFIAGXT3ro",
        "colab_type": "text"
      },
      "source": [
        "## 4.3 Remove rarely rated movies and rarely rating users"
      ]
    },
    {
      "cell_type": "code",
      "metadata": {
        "id": "tTUG4ao6S_x7",
        "colab_type": "code",
        "colab": {
          "base_uri": "https://localhost:8080/",
          "height": 50
        },
        "outputId": "0d080569-959b-4796-eaaf-9a08a83aebff"
      },
      "source": [
        "print('The original data frame shape:\\t{}'.format(df.shape))\n",
        "df = df[(df['movieId'].isin(filter_movies)) & (df['userId'].isin(filter_users))]\n",
        "print('The new data frame shape:\\t{}'.format(df.shape))"
      ],
      "execution_count": 65,
      "outputs": [
        {
          "output_type": "stream",
          "text": [
            "The original data frame shape:\t(100836, 3)\n",
            "The new data frame shape:\t(92394, 3)\n"
          ],
          "name": "stdout"
        }
      ]
    },
    {
      "cell_type": "markdown",
      "metadata": {
        "id": "TbviZWiPM3jQ",
        "colab_type": "text"
      },
      "source": [
        "# Task 5: Create Training and Test Sets"
      ]
    },
    {
      "cell_type": "markdown",
      "metadata": {
        "id": "TIK2L0VuhbgA",
        "colab_type": "text"
      },
      "source": [
        "## 5.1 Columns used for training"
      ]
    },
    {
      "cell_type": "code",
      "metadata": {
        "id": "bXF4dmJKhF7q",
        "colab_type": "code",
        "colab": {}
      },
      "source": [
        "cols = ['userId', 'movieId', 'rating']"
      ],
      "execution_count": 66,
      "outputs": []
    },
    {
      "cell_type": "markdown",
      "metadata": {
        "id": "J8rylnJmUjYk",
        "colab_type": "text"
      },
      "source": [
        "## 5.2 Create surprise dataset"
      ]
    },
    {
      "cell_type": "code",
      "metadata": {
        "id": "4UOTMUssM6Tw",
        "colab_type": "code",
        "colab": {}
      },
      "source": [
        "reader = Reader(rating_scale=(0.5, 5))\n",
        "data = Dataset.load_from_df(df[cols], reader)"
      ],
      "execution_count": 67,
      "outputs": []
    },
    {
      "cell_type": "markdown",
      "metadata": {
        "id": "8lM--CdvguDz",
        "colab_type": "text"
      },
      "source": [
        "## 5.3 Create Train-set and Prediction-set"
      ]
    },
    {
      "cell_type": "code",
      "metadata": {
        "id": "heITVvtvU1FD",
        "colab_type": "code",
        "colab": {}
      },
      "source": [
        "trainset = data.build_full_trainset()\n",
        "antiset = trainset.build_anti_testset()"
      ],
      "execution_count": 68,
      "outputs": []
    },
    {
      "cell_type": "markdown",
      "metadata": {
        "id": "AYfhHDReuO5h",
        "colab_type": "text"
      },
      "source": [
        "# Task 6: Creating and training the model"
      ]
    },
    {
      "cell_type": "markdown",
      "metadata": {
        "id": "R4e28tFHubv9",
        "colab_type": "text"
      },
      "source": [
        "## 6.1 Creating the model\n",
        "\n",
        "**SVD (Singular Value Decomposition)**\n",
        "\n",
        "Interaction Matrix = A X B X C"
      ]
    },
    {
      "cell_type": "code",
      "metadata": {
        "id": "Ft4rS3L-hqeS",
        "colab_type": "code",
        "colab": {}
      },
      "source": [
        "algo = SVD(n_epochs = 25, verbose = True)"
      ],
      "execution_count": 69,
      "outputs": []
    },
    {
      "cell_type": "markdown",
      "metadata": {
        "id": "h_16sRpXwahF",
        "colab_type": "text"
      },
      "source": [
        "## 6.2 Training the model\n",
        "\n",
        "**Mean Absolute Error (MAE)**: MAE measures the average magnitude of the errors in a set of predictions, without considering their direction. \n",
        "\n",
        "**Root mean squared error (RMSE)**:  RMSE is the square root of the average of squared differences between prediction and actual observation."
      ]
    },
    {
      "cell_type": "code",
      "metadata": {
        "id": "nh-E5DS5wYe_",
        "colab_type": "code",
        "colab": {
          "base_uri": "https://localhost:8080/",
          "height": 1000
        },
        "outputId": "9dccb553-93af-4b24-c180-f85905ef4245"
      },
      "source": [
        "cross_validate(algo, data, measures=['RMSE', 'MAE'], cv=5, verbose = True)\n",
        "print('>> Training Done')"
      ],
      "execution_count": 70,
      "outputs": [
        {
          "output_type": "stream",
          "text": [
            "Processing epoch 0\n",
            "Processing epoch 1\n",
            "Processing epoch 2\n",
            "Processing epoch 3\n",
            "Processing epoch 4\n",
            "Processing epoch 5\n",
            "Processing epoch 6\n",
            "Processing epoch 7\n",
            "Processing epoch 8\n",
            "Processing epoch 9\n",
            "Processing epoch 10\n",
            "Processing epoch 11\n",
            "Processing epoch 12\n",
            "Processing epoch 13\n",
            "Processing epoch 14\n",
            "Processing epoch 15\n",
            "Processing epoch 16\n",
            "Processing epoch 17\n",
            "Processing epoch 18\n",
            "Processing epoch 19\n",
            "Processing epoch 20\n",
            "Processing epoch 21\n",
            "Processing epoch 22\n",
            "Processing epoch 23\n",
            "Processing epoch 24\n",
            "Processing epoch 0\n",
            "Processing epoch 1\n",
            "Processing epoch 2\n",
            "Processing epoch 3\n",
            "Processing epoch 4\n",
            "Processing epoch 5\n",
            "Processing epoch 6\n",
            "Processing epoch 7\n",
            "Processing epoch 8\n",
            "Processing epoch 9\n",
            "Processing epoch 10\n",
            "Processing epoch 11\n",
            "Processing epoch 12\n",
            "Processing epoch 13\n",
            "Processing epoch 14\n",
            "Processing epoch 15\n",
            "Processing epoch 16\n",
            "Processing epoch 17\n",
            "Processing epoch 18\n",
            "Processing epoch 19\n",
            "Processing epoch 20\n",
            "Processing epoch 21\n",
            "Processing epoch 22\n",
            "Processing epoch 23\n",
            "Processing epoch 24\n",
            "Processing epoch 0\n",
            "Processing epoch 1\n",
            "Processing epoch 2\n",
            "Processing epoch 3\n",
            "Processing epoch 4\n",
            "Processing epoch 5\n",
            "Processing epoch 6\n",
            "Processing epoch 7\n",
            "Processing epoch 8\n",
            "Processing epoch 9\n",
            "Processing epoch 10\n",
            "Processing epoch 11\n",
            "Processing epoch 12\n",
            "Processing epoch 13\n",
            "Processing epoch 14\n",
            "Processing epoch 15\n",
            "Processing epoch 16\n",
            "Processing epoch 17\n",
            "Processing epoch 18\n",
            "Processing epoch 19\n",
            "Processing epoch 20\n",
            "Processing epoch 21\n",
            "Processing epoch 22\n",
            "Processing epoch 23\n",
            "Processing epoch 24\n",
            "Processing epoch 0\n",
            "Processing epoch 1\n",
            "Processing epoch 2\n",
            "Processing epoch 3\n",
            "Processing epoch 4\n",
            "Processing epoch 5\n",
            "Processing epoch 6\n",
            "Processing epoch 7\n",
            "Processing epoch 8\n",
            "Processing epoch 9\n",
            "Processing epoch 10\n",
            "Processing epoch 11\n",
            "Processing epoch 12\n",
            "Processing epoch 13\n",
            "Processing epoch 14\n",
            "Processing epoch 15\n",
            "Processing epoch 16\n",
            "Processing epoch 17\n",
            "Processing epoch 18\n",
            "Processing epoch 19\n",
            "Processing epoch 20\n",
            "Processing epoch 21\n",
            "Processing epoch 22\n",
            "Processing epoch 23\n",
            "Processing epoch 24\n",
            "Processing epoch 0\n",
            "Processing epoch 1\n",
            "Processing epoch 2\n",
            "Processing epoch 3\n",
            "Processing epoch 4\n",
            "Processing epoch 5\n",
            "Processing epoch 6\n",
            "Processing epoch 7\n",
            "Processing epoch 8\n",
            "Processing epoch 9\n",
            "Processing epoch 10\n",
            "Processing epoch 11\n",
            "Processing epoch 12\n",
            "Processing epoch 13\n",
            "Processing epoch 14\n",
            "Processing epoch 15\n",
            "Processing epoch 16\n",
            "Processing epoch 17\n",
            "Processing epoch 18\n",
            "Processing epoch 19\n",
            "Processing epoch 20\n",
            "Processing epoch 21\n",
            "Processing epoch 22\n",
            "Processing epoch 23\n",
            "Processing epoch 24\n",
            "Evaluating RMSE, MAE of algorithm SVD on 5 split(s).\n",
            "\n",
            "                  Fold 1  Fold 2  Fold 3  Fold 4  Fold 5  Mean    Std     \n",
            "RMSE (testset)    0.8599  0.8607  0.8582  0.8592  0.8638  0.8604  0.0019  \n",
            "MAE (testset)     0.6602  0.6622  0.6586  0.6563  0.6632  0.6601  0.0025  \n",
            "Fit time          6.29    6.22    6.30    6.21    6.29    6.26    0.04    \n",
            "Test time         0.14    0.16    0.18    0.15    0.15    0.15    0.01    \n",
            ">> Training Done\n"
          ],
          "name": "stdout"
        }
      ]
    },
    {
      "cell_type": "markdown",
      "metadata": {
        "id": "zTnqbNt_xkKS",
        "colab_type": "text"
      },
      "source": [
        "# Task 7: Predictions"
      ]
    },
    {
      "cell_type": "markdown",
      "metadata": {
        "id": "ma3oQr1Ax_Hg",
        "colab_type": "text"
      },
      "source": [
        "## 7.1 Predict ratings for all pairs (user, items) that are NOT in the training set."
      ]
    },
    {
      "cell_type": "code",
      "metadata": {
        "id": "_K3EmIs3wxhW",
        "colab_type": "code",
        "colab": {}
      },
      "source": [
        "predictions = algo.test(antiset)"
      ],
      "execution_count": 71,
      "outputs": []
    },
    {
      "cell_type": "code",
      "metadata": {
        "id": "RkqiEwM9z4Jf",
        "colab_type": "code",
        "colab": {
          "base_uri": "https://localhost:8080/",
          "height": 34
        },
        "outputId": "e58e8df5-17e0-428b-8256-732fed73c65d"
      },
      "source": [
        "predictions[0]"
      ],
      "execution_count": 72,
      "outputs": [
        {
          "output_type": "execute_result",
          "data": {
            "text/plain": [
              "Prediction(uid=1, iid=318, r_ui=3.529119856267723, est=5, details={'was_impossible': False})"
            ]
          },
          "metadata": {
            "tags": []
          },
          "execution_count": 72
        }
      ]
    },
    {
      "cell_type": "markdown",
      "metadata": {
        "id": "lRmzGn63ze8b",
        "colab_type": "text"
      },
      "source": [
        "## 7.2 Recommending top 3 movies movies based on predictions"
      ]
    },
    {
      "cell_type": "code",
      "metadata": {
        "id": "q3Ugauv0119g",
        "colab_type": "code",
        "colab": {
          "base_uri": "https://localhost:8080/",
          "height": 1000
        },
        "outputId": "c1f22100-5f61-43fa-a663-0a15e1f555ff"
      },
      "source": [
        "from collections import defaultdict\n",
        "def get_top_n(predictions, n):\n",
        "    # First map the predictions to each user.\n",
        "    top_n = defaultdict(list)\n",
        "    for uid, iid, true_r, est, _ in predictions:\n",
        "        top_n[uid].append((iid, est))\n",
        "\n",
        "    # Then sort the predictions for each user and retrieve the n highest ones.\n",
        "    for uid, user_ratings in top_n.items():\n",
        "        user_ratings.sort(key=lambda x: x[1], reverse=True)\n",
        "        top_n[uid] = user_ratings[:n]\n",
        "\n",
        "    return top_n\n",
        "top_n = get_top_n(predictions, n=3)\n",
        "for uid, user_ratings in top_n.items():\n",
        "    print(uid, [iid for (iid, rating) in user_ratings])"
      ],
      "execution_count": 73,
      "outputs": [
        {
          "output_type": "stream",
          "text": [
            "1 [318, 1704, 48516]\n",
            "2 [912, 260, 750]\n",
            "3 [1204, 91529, 3578]\n",
            "4 [1204, 3030, 955]\n",
            "5 [1201, 58559, 912]\n",
            "6 [1270, 58, 916]\n",
            "7 [1204, 2571, 1203]\n",
            "8 [2324, 1262, 1261]\n",
            "9 [318, 898, 4973]\n",
            "10 [4878, 1262, 1270]\n",
            "11 [1148, 1283, 1235]\n",
            "12 [47, 50, 110]\n",
            "13 [57669, 750, 1204]\n",
            "14 [1104, 1283, 2324]\n",
            "15 [50, 1208, 1223]\n",
            "16 [1204, 2324, 1283]\n",
            "17 [1283, 1204, 1276]\n",
            "18 [750, 3030, 1204]\n",
            "19 [858, 296, 8874]\n",
            "20 [1262, 50, 1204]\n",
            "21 [898, 265, 1234]\n",
            "22 [110, 2571, 1136]\n",
            "23 [1204, 898, 3451]\n",
            "24 [1203, 1283, 912]\n",
            "25 [50, 899, 2324]\n",
            "26 [1104, 898, 1283]\n",
            "27 [318, 912, 2324]\n",
            "28 [1193, 1104, 2324]\n",
            "29 [912, 1223, 260]\n",
            "30 [904, 750, 4011]\n",
            "31 [1204, 1201, 58559]\n",
            "32 [1204, 6350, 4226]\n",
            "33 [1136, 912, 1204]\n",
            "34 [912, 2692, 105504]\n",
            "35 [2019, 5618, 1136]\n",
            "36 [2959, 1104, 1248]\n",
            "37 [1248, 1204, 912]\n",
            "38 [1204, 3681, 3266]\n",
            "39 [912, 541, 1266]\n",
            "40 [5690, 1208, 953]\n",
            "41 [122926, 3275, 4993]\n",
            "42 [1208, 27773, 898]\n",
            "43 [50, 223, 260]\n",
            "44 [1283, 750, 1204]\n",
            "45 [1223, 318, 1248]\n",
            "46 [904, 527, 356]\n",
            "47 [1204, 260, 44195]\n",
            "48 [922, 912, 1283]\n",
            "49 [898, 912, 1136]\n",
            "50 [4993, 16, 4973]\n",
            "51 [1136, 1258, 2858]\n",
            "52 [50, 2329, 3147]\n",
            "53 [47, 50, 110]\n",
            "54 [4993, 4973, 3030]\n",
            "55 [318, 58559, 3468]\n",
            "56 [57669, 904, 527]\n",
            "57 [1262, 79132, 5747]\n",
            "58 [260, 1204, 750]\n",
            "59 [4993, 1248, 1199]\n",
            "60 [904, 912, 260]\n",
            "61 [904, 168252, 110]\n",
            "62 [1204, 750, 50]\n",
            "63 [750, 1954, 1212]\n",
            "64 [912, 5618, 1041]\n",
            "65 [898, 904, 1248]\n",
            "66 [1276, 750, 904]\n",
            "67 [1204, 1276, 3468]\n",
            "68 [115569, 1283, 1204]\n",
            "69 [1283, 1261, 4973]\n",
            "70 [1204, 50, 57669]\n",
            "71 [908, 1136, 356]\n",
            "72 [1283, 1204, 1248]\n",
            "73 [904, 2959, 296]\n",
            "74 [1283, 898, 750]\n",
            "75 [1203, 1104, 1262]\n",
            "76 [5995, 912, 2028]\n",
            "77 [57669, 318, 750]\n",
            "78 [898, 1278, 2324]\n",
            "79 [1283, 912, 2329]\n",
            "80 [356, 912, 1283]\n",
            "81 [4226, 912, 58559]\n",
            "82 [898, 2160, 79132]\n",
            "83 [898, 1283, 71899]\n",
            "84 [2324, 1262, 1283]\n",
            "85 [750, 1204, 1283]\n",
            "86 [898, 1204, 908]\n",
            "87 [3275, 318, 1204]\n",
            "88 [898, 1199, 8874]\n",
            "89 [1225, 2194, 1104]\n",
            "90 [105504, 57669, 593]\n",
            "91 [55820, 7361, 3030]\n",
            "92 [593, 4973, 2329]\n",
            "93 [296, 1196, 1198]\n",
            "94 [912, 3030, 1204]\n",
            "95 [750, 898, 3030]\n",
            "96 [750, 1204, 2762]\n",
            "97 [50, 296, 1283]\n",
            "98 [57669, 2571, 68157]\n",
            "99 [260, 527, 2858]\n",
            "100 [898, 1201, 1204]\n",
            "101 [4973, 3037, 1228]\n",
            "102 [904, 110, 1248]\n",
            "103 [2019, 1248, 904]\n",
            "104 [898, 1104, 58]\n",
            "105 [1283, 1248, 1041]\n",
            "106 [50, 898, 1283]\n",
            "107 [1207, 4011, 1204]\n",
            "108 [356, 898, 92259]\n",
            "109 [898, 1204, 2959]\n",
            "110 [1283, 318, 1204]\n",
            "111 [6620, 590, 2324]\n",
            "112 [1247, 7361, 1204]\n",
            "113 [4993, 1222, 2959]\n",
            "114 [750, 1223, 898]\n",
            "115 [7361, 930, 1272]\n",
            "116 [3508, 1204, 1298]\n",
            "117 [1204, 908, 1884]\n",
            "118 [912, 898, 1214]\n",
            "119 [898, 912, 44195]\n",
            "120 [2959, 296, 2858]\n",
            "121 [912, 898, 1204]\n",
            "122 [1206, 2028, 2858]\n",
            "123 [1204, 912, 58559]\n",
            "124 [750, 1193, 3037]\n",
            "125 [912, 1272, 1213]\n",
            "126 [1204, 5816, 7156]\n",
            "127 [1204, 1283, 750]\n",
            "128 [1283, 1204, 318]\n",
            "129 [750, 1283, 58559]\n",
            "130 [2571, 4993, 898]\n",
            "131 [750, 1041, 1242]\n",
            "132 [608, 1248, 1223]\n",
            "133 [57669, 1204, 898]\n",
            "134 [1283, 318, 1104]\n",
            "135 [3424, 750, 6711]\n",
            "136 [1204, 318, 2329]\n",
            "137 [4973, 898, 2324]\n",
            "138 [260, 1196, 912]\n",
            "139 [1208, 930, 750]\n",
            "140 [1228, 1283, 905]\n",
            "141 [922, 1283, 1104]\n",
            "142 [898, 1198, 3037]\n",
            "143 [1104, 898, 2788]\n",
            "144 [858, 912, 750]\n",
            "145 [912, 3037, 750]\n",
            "146 [318, 57669, 110]\n",
            "147 [7361, 858, 34405]\n",
            "148 [2324, 27773, 1283]\n",
            "149 [4993, 5952, 5690]\n",
            "150 [912, 1248, 898]\n",
            "151 [912, 898, 4973]\n",
            "152 [1283, 898, 912]\n",
            "153 [47, 1968, 5444]\n",
            "154 [1283, 1104, 898]\n",
            "155 [296, 1196, 318]\n",
            "156 [2959, 1104, 951]\n",
            "157 [4993, 3030, 1198]\n",
            "158 [912, 318, 4993]\n",
            "159 [1204, 2160, 475]\n",
            "160 [1732, 58998, 4226]\n",
            "161 [527, 1204, 57669]\n",
            "162 [1204, 1223, 1262]\n",
            "163 [1204, 1248, 318]\n",
            "164 [912, 3000, 1204]\n",
            "165 [904, 912, 7361]\n",
            "166 [912, 1208, 898]\n",
            "167 [6711, 3030, 58559]\n",
            "168 [260, 1250, 1283]\n",
            "169 [50, 1089, 1196]\n",
            "170 [2959, 2160, 1228]\n",
            "171 [1206, 1213, 1222]\n",
            "172 [1283, 1204, 2329]\n",
            "173 [1204, 4973, 1104]\n",
            "174 [898, 58559, 912]\n",
            "175 [2858, 1245, 1283]\n",
            "176 [1283, 1198, 2324]\n",
            "177 [1079, 1287, 908]\n",
            "178 [1201, 750, 5618]\n",
            "179 [898, 2324, 912]\n",
            "180 [904, 912, 898]\n",
            "181 [1283, 318, 2324]\n",
            "182 [1276, 27773, 914]\n",
            "183 [27773, 1204, 318]\n",
            "184 [296, 912, 593]\n",
            "185 [912, 589, 1204]\n",
            "186 [57669, 6377, 4973]\n",
            "187 [1221, 1249, 1233]\n",
            "188 [1201, 1267, 750]\n",
            "189 [1204, 2028, 4011]\n",
            "190 [50, 1228, 1204]\n",
            "191 [858, 7361, 593]\n",
            "192 [1104, 1204, 1242]\n",
            "193 [1204, 905, 58559]\n",
            "194 [898, 2324, 1204]\n",
            "195 [7153, 741, 1387]\n",
            "196 [318, 57669, 1204]\n",
            "197 [4226, 260, 32]\n",
            "198 [1204, 1276, 27773]\n",
            "199 [2019, 1223, 1732]\n",
            "200 [1283, 1204, 1411]\n",
            "201 [2160, 318, 1242]\n",
            "202 [898, 527, 904]\n",
            "203 [1104, 50, 904]\n",
            "204 [27773, 318, 7153]\n",
            "205 [1204, 318, 951]\n",
            "206 [912, 898, 904]\n",
            "207 [750, 898, 1204]\n",
            "208 [898, 1204, 50]\n",
            "209 [3030, 912, 1204]\n",
            "210 [1283, 1204, 7156]\n",
            "211 [4973, 912, 3275]\n",
            "212 [3030, 898, 1104]\n",
            "213 [898, 48516, 1104]\n",
            "214 [7361, 904, 1201]\n",
            "215 [750, 1283, 898]\n",
            "216 [1208, 1222, 1104]\n",
            "217 [6377, 7371, 922]\n",
            "218 [2959, 904, 858]\n",
            "219 [1204, 3347, 3435]\n",
            "220 [1262, 1288, 168252]\n",
            "221 [2324, 3213, 1248]\n",
            "222 [3030, 7361, 1204]\n",
            "223 [1204, 912, 1262]\n",
            "224 [1136, 866, 1262]\n",
            "225 [2329, 318, 898]\n",
            "226 [318, 1208, 527]\n",
            "227 [898, 1248, 1104]\n",
            "228 [898, 27773, 57669]\n",
            "229 [1204, 898, 1283]\n",
            "230 [898, 68954, 162]\n",
            "231 [1204, 27773, 3030]\n",
            "232 [904, 912, 1201]\n",
            "233 [1204, 750, 3030]\n",
            "234 [918, 4973, 1204]\n",
            "235 [1208, 4011, 741]\n",
            "236 [1283, 1178, 2959]\n",
            "237 [3030, 912, 1248]\n",
            "238 [1204, 750, 318]\n",
            "239 [1283, 898, 750]\n",
            "240 [608, 1213, 2028]\n",
            "241 [908, 260, 898]\n",
            "242 [1204, 858, 2959]\n",
            "243 [923, 1197, 2329]\n",
            "244 [858, 912, 318]\n",
            "245 [1283, 916, 898]\n",
            "246 [1248, 3266, 5690]\n",
            "247 [92259, 1276, 3030]\n",
            "248 [1206, 296, 1228]\n",
            "249 [1283, 1208, 1276]\n",
            "250 [57669, 527, 912]\n",
            "251 [904, 912, 4993]\n",
            "252 [527, 318, 296]\n",
            "253 [1201, 57669, 1204]\n",
            "254 [1222, 27773, 1256]\n",
            "255 [58559, 5952, 3030]\n",
            "256 [912, 898, 1248]\n",
            "257 [1248, 318, 912]\n",
            "258 [6377, 1204, 2324]\n",
            "259 [1203, 1204, 4878]\n",
            "260 [898, 3037, 1283]\n",
            "261 [1198, 2324, 904]\n",
            "262 [912, 1266, 750]\n",
            "263 [1104, 1213, 1198]\n",
            "264 [750, 6377, 1193]\n",
            "265 [3836, 58559, 5690]\n",
            "266 [4993, 858, 1230]\n",
            "267 [741, 527, 306]\n",
            "268 [1233, 4993, 111]\n",
            "269 [898, 904, 260]\n",
            "270 [1217, 318, 904]\n",
            "271 [4973, 1270, 1204]\n",
            "272 [1270, 1283, 1248]\n",
            "273 [2329, 57669, 27773]\n",
            "274 [3030, 741, 139385]\n",
            "275 [47, 55820, 1387]\n",
            "276 [47, 50, 110]\n",
            "277 [912, 318, 1411]\n",
            "278 [3275, 1203, 27773]\n",
            "279 [904, 1248, 4973]\n",
            "280 [57669, 858, 1283]\n",
            "281 [912, 898, 1193]\n",
            "282 [4973, 954, 899]\n",
            "283 [912, 2324, 50]\n",
            "284 [1283, 6711, 912]\n",
            "285 [750, 318, 293]\n",
            "286 [318, 3508, 1148]\n",
            "287 [1089, 1221, 541]\n",
            "288 [858, 2019, 741]\n",
            "289 [898, 3030, 50]\n",
            "290 [7153, 3147, 5618]\n",
            "291 [1204, 3275, 3836]\n",
            "292 [1204, 43376, 150]\n",
            "293 [912, 57669, 899]\n",
            "294 [3681, 318, 4993]\n",
            "295 [2028, 904, 260]\n",
            "296 [912, 92259, 3030]\n",
            "297 [1204, 318, 27773]\n",
            "298 [593, 2997, 78499]\n",
            "299 [3030, 4973, 1248]\n",
            "300 [1283, 1136, 5618]\n",
            "301 [142488, 3468, 593]\n",
            "302 [898, 1303, 4226]\n",
            "303 [110, 1204, 912]\n",
            "304 [2160, 904, 3275]\n",
            "305 [3030, 110, 898]\n",
            "306 [57669, 296, 1283]\n",
            "307 [4973, 3030, 912]\n",
            "308 [1104, 1245, 34405]\n",
            "309 [1223, 57669, 1266]\n",
            "310 [168252, 296, 2019]\n",
            "311 [750, 1248, 1228]\n",
            "312 [296, 50, 7153]\n",
            "313 [898, 2324, 904]\n",
            "314 [912, 5952, 1196]\n",
            "315 [2329, 912, 1248]\n",
            "316 [1283, 1222, 1201]\n",
            "317 [1204, 1250, 1197]\n",
            "318 [898, 912, 2160]\n",
            "319 [6711, 1276, 44555]\n",
            "320 [296, 1283, 2959]\n",
            "321 [1283, 912, 904]\n",
            "322 [1945, 2160, 898]\n",
            "323 [741, 898, 1270]\n",
            "324 [898, 2019, 50872]\n",
            "325 [1193, 2959, 1208]\n",
            "326 [58559, 3275, 912]\n",
            "327 [3451, 1248, 3030]\n",
            "328 [741, 1283, 4848]\n",
            "329 [356, 1104, 3275]\n",
            "330 [1276, 1104, 3836]\n",
            "331 [2028, 1221, 1201]\n",
            "332 [1198, 1104, 2788]\n",
            "333 [912, 1204, 1223]\n",
            "334 [2019, 912, 44555]\n",
            "335 [898, 1204, 912]\n",
            "336 [912, 7361, 750]\n",
            "337 [1136, 1206, 1732]\n",
            "338 [3030, 1089, 750]\n",
            "339 [110, 1267, 3213]\n",
            "340 [912, 3508, 7371]\n",
            "341 [318, 1283, 2788]\n",
            "342 [318, 7153, 92259]\n",
            "343 [1704, 6711, 1673]\n",
            "344 [306, 1198, 78499]\n",
            "345 [1204, 1267, 293]\n",
            "346 [1283, 898, 1104]\n",
            "347 [912, 68157, 858]\n",
            "348 [1089, 1198, 48516]\n",
            "349 [1204, 318, 3037]\n",
            "350 [318, 1283, 1104]\n",
            "351 [912, 2329, 898]\n",
            "352 [1283, 923, 904]\n",
            "353 [1148, 57669, 1283]\n",
            "354 [1148, 1248, 3030]\n",
            "355 [1276, 858, 922]\n",
            "356 [260, 898, 68157]\n",
            "357 [4993, 72226, 57669]\n",
            "358 [2324, 27773, 1221]\n",
            "359 [912, 1283, 1197]\n",
            "360 [4973, 7153, 930]\n",
            "361 [1104, 3972, 930]\n",
            "362 [750, 1204, 1248]\n",
            "363 [1248, 1228, 898]\n",
            "364 [904, 2160, 898]\n",
            "365 [904, 27773, 5690]\n",
            "366 [912, 318, 1276]\n",
            "367 [1283, 6711, 1204]\n",
            "368 [48516, 912, 1283]\n",
            "369 [1204, 912, 3275]\n",
            "370 [930, 912, 1242]\n",
            "371 [110, 260, 296]\n",
            "372 [48738, 1704, 3037]\n",
            "373 [1246, 4973, 57669]\n",
            "374 [3037, 1207, 904]\n",
            "375 [1204, 27773, 1221]\n",
            "376 [318, 92259, 898]\n",
            "377 [750, 260, 912]\n",
            "378 [1198, 57669, 3030]\n",
            "379 [1104, 7371, 2019]\n",
            "380 [933, 3030, 44555]\n",
            "381 [1228, 1104, 1283]\n",
            "382 [1136, 7438, 741]\n",
            "383 [318, 1204, 750]\n",
            "384 [4973, 318, 912]\n",
            "385 [2762, 1266, 899]\n",
            "386 [1104, 898, 1213]\n",
            "387 [7153, 1283, 720]\n",
            "388 [2329, 912, 904]\n",
            "389 [50, 1089, 1208]\n",
            "390 [1208, 922, 608]\n",
            "391 [8874, 6874, 1288]\n",
            "392 [57669, 1104, 2324]\n",
            "393 [904, 1247, 7371]\n",
            "394 [318, 1204, 1276]\n",
            "395 [1394, 750, 1204]\n",
            "396 [912, 1198, 260]\n",
            "397 [898, 912, 1283]\n",
            "398 [57669, 1201, 4993]\n",
            "399 [741, 8636, 1104]\n",
            "400 [1283, 750, 2329]\n",
            "401 [296, 47, 1089]\n",
            "402 [4973, 912, 1291]\n",
            "403 [1204, 904, 2571]\n",
            "404 [1204, 898, 50]\n",
            "405 [318, 1283, 898]\n",
            "406 [260, 898, 1196]\n",
            "407 [4973, 750, 57669]\n",
            "408 [1204, 904, 1267]\n",
            "409 [1261, 356, 527]\n",
            "410 [2160, 1204, 1193]\n",
            "411 [1266, 56782, 1884]\n",
            "412 [527, 912, 922]\n",
            "413 [912, 1248, 905]\n",
            "414 [5747, 3468, 1248]\n",
            "415 [3030, 27773, 1204]\n",
            "416 [50, 1178, 1041]\n",
            "417 [1204, 7371, 912]\n",
            "418 [27773, 2571, 2324]\n",
            "419 [904, 1104, 1201]\n",
            "420 [912, 1204, 1233]\n",
            "421 [48516, 1204, 6350]\n",
            "422 [1148, 7153, 1270]\n",
            "423 [2324, 306, 1210]\n",
            "424 [898, 4973, 6377]\n",
            "425 [912, 1283, 27773]\n",
            "426 [1104, 2398, 590]\n",
            "427 [7361, 1193, 750]\n",
            "428 [750, 1288, 50]\n",
            "429 [527, 318, 912]\n",
            "430 [2160, 904, 4993]\n",
            "431 [1283, 912, 7361]\n",
            "432 [1233, 111759, 115569]\n",
            "433 [1204, 1104, 1288]\n",
            "434 [1221, 78499, 4973]\n",
            "435 [898, 1204, 2324]\n",
            "436 [50, 898, 5690]\n",
            "437 [922, 898, 912]\n",
            "438 [4878, 593, 1198]\n",
            "439 [2959, 1104, 898]\n",
            "440 [6350, 1270, 2324]\n",
            "441 [50, 110, 356]\n",
            "442 [1104, 898, 1228]\n",
            "443 [1283, 1104, 912]\n",
            "444 [933, 1204, 1104]\n",
            "445 [1206, 1201, 1283]\n",
            "446 [1104, 750, 3030]\n",
            "447 [898, 1283, 260]\n",
            "448 [1732, 318, 527]\n",
            "449 [3266, 1204, 922]\n",
            "450 [1204, 750, 904]\n",
            "451 [1283, 858, 750]\n",
            "452 [1, 50, 441]\n",
            "453 [3000, 1223, 78499]\n",
            "454 [1204, 318, 527]\n",
            "455 [260, 912, 750]\n",
            "456 [912, 1204, 1248]\n",
            "457 [318, 57669, 912]\n",
            "458 [898, 1283, 750]\n",
            "459 [318, 1204, 2329]\n",
            "460 [1283, 912, 898]\n",
            "461 [2324, 3213, 1104]\n",
            "462 [1201, 1104, 2398]\n",
            "463 [912, 318, 1201]\n",
            "464 [1283, 1208, 750]\n",
            "465 [1221, 6350, 858]\n",
            "466 [898, 2160, 1104]\n",
            "467 [1204, 318, 50]\n",
            "468 [1204, 4973, 3508]\n",
            "469 [778, 4993, 720]\n",
            "470 [904, 1198, 898]\n",
            "471 [1204, 1283, 898]\n",
            "472 [1213, 750, 1104]\n",
            "473 [912, 260, 898]\n",
            "474 [57669, 2599, 2917]\n",
            "475 [47, 296, 527]\n",
            "476 [750, 1104, 1204]\n",
            "477 [27773, 50, 78499]\n",
            "478 [1204, 318, 1283]\n",
            "479 [4993, 7361, 3435]\n",
            "480 [912, 750, 1104]\n",
            "481 [2571, 2019, 58559]\n",
            "482 [7371, 79132, 80906]\n",
            "483 [1276, 1223, 4878]\n",
            "484 [1283, 38038, 1270]\n",
            "485 [318, 1035, 1201]\n",
            "486 [1283, 951, 2959]\n",
            "487 [1283, 247, 2160]\n",
            "488 [3468, 1527, 1201]\n",
            "489 [858, 1228, 1221]\n",
            "490 [1204, 527, 912]\n",
            "491 [898, 912, 1283]\n",
            "492 [50, 898, 4995]\n",
            "493 [2858, 7361, 1283]\n",
            "494 [4993, 50, 1288]\n",
            "495 [296, 593, 912]\n",
            "496 [318, 1204, 750]\n",
            "497 [898, 1104, 56782]\n",
            "498 [898, 912, 1262]\n",
            "499 [912, 296, 2858]\n",
            "500 [1207, 1248, 750]\n",
            "501 [1394, 898, 2028]\n",
            "502 [260, 2571, 1204]\n",
            "503 [50, 912, 923]\n",
            "504 [898, 1204, 2160]\n",
            "505 [1204, 356, 1233]\n",
            "506 [1233, 1193, 912]\n",
            "507 [1204, 318, 7361]\n",
            "508 [1204, 1283, 1248]\n",
            "509 [1283, 1204, 898]\n",
            "510 [296, 1221, 608]\n",
            "511 [1204, 1276, 1223]\n",
            "512 [750, 912, 4226]\n",
            "513 [4226, 2324, 5618]\n",
            "514 [527, 1262, 912]\n",
            "515 [608, 1196, 1213]\n",
            "516 [1204, 908, 898]\n",
            "517 [58, 590, 3019]\n",
            "518 [1261, 4973, 3030]\n",
            "519 [593, 898, 4995]\n",
            "520 [527, 58559, 898]\n",
            "521 [1193, 912, 3030]\n",
            "522 [1278, 1267, 1248]\n",
            "523 [50, 110, 223]\n",
            "524 [898, 3037, 1283]\n",
            "525 [1204, 3030, 7153]\n",
            "526 [898, 1223, 750]\n",
            "527 [750, 1207, 3037]\n",
            "528 [912, 1248, 1204]\n",
            "529 [912, 1283, 898]\n",
            "530 [1204, 318, 1283]\n",
            "531 [3578, 1248, 1246]\n",
            "532 [912, 1204, 898]\n",
            "533 [296, 318, 1283]\n",
            "534 [1178, 4973, 1267]\n",
            "535 [912, 2959, 904]\n",
            "536 [1283, 912, 1197]\n",
            "537 [1204, 6350, 1248]\n",
            "538 [1198, 2329, 2858]\n",
            "539 [898, 1283, 1104]\n",
            "540 [912, 1283, 318]\n",
            "541 [912, 1198, 1104]\n",
            "542 [1204, 1203, 92259]\n",
            "543 [6, 110, 457]\n",
            "544 [912, 4973, 3275]\n",
            "545 [904, 1201, 912]\n",
            "546 [260, 4993, 741]\n",
            "547 [912, 80906, 50]\n",
            "548 [4973, 3037, 1204]\n",
            "549 [1104, 898, 3266]\n",
            "550 [1283, 1201, 2959]\n",
            "551 [1204, 898, 1283]\n",
            "552 [318, 4973, 260]\n",
            "553 [318, 912, 1283]\n",
            "554 [260, 356, 57669]\n",
            "555 [1223, 1204, 953]\n",
            "556 [1204, 318, 898]\n",
            "557 [1204, 3030, 1104]\n",
            "558 [898, 912, 1136]\n",
            "559 [1204, 247, 4973]\n",
            "560 [1248, 898, 2324]\n",
            "561 [904, 750, 1204]\n",
            "562 [6350, 2329, 2160]\n",
            "563 [750, 1204, 2959]\n",
            "564 [912, 4995, 898]\n",
            "565 [1204, 1248, 858]\n",
            "566 [1196, 6016, 1210]\n",
            "567 [1215, 1266, 1267]\n",
            "568 [318, 1204, 3030]\n",
            "569 [318, 1267, 4226]\n",
            "570 [898, 4973, 3030]\n",
            "571 [50, 1204, 1178]\n",
            "572 [1283, 928, 898]\n",
            "573 [1704, 1283, 1261]\n",
            "574 [3030, 1204, 1089]\n",
            "575 [1283, 922, 904]\n",
            "576 [1104, 3030, 475]\n",
            "577 [7361, 1204, 1283]\n",
            "578 [50, 593, 898]\n",
            "579 [898, 4993, 1283]\n",
            "580 [3508, 2288, 1248]\n",
            "581 [50, 1283, 912]\n",
            "582 [1204, 318, 898]\n",
            "583 [318, 898, 1104]\n",
            "584 [318, 6377, 7371]\n",
            "585 [750, 898, 1204]\n",
            "586 [2329, 898, 912]\n",
            "587 [905, 1262, 922]\n",
            "588 [1198, 904, 608]\n",
            "589 [898, 58559, 741]\n",
            "590 [720, 1261, 899]\n",
            "591 [318, 1204, 912]\n",
            "592 [1196, 2019, 2571]\n",
            "593 [2791, 2324, 898]\n",
            "594 [1196, 3147, 3671]\n",
            "595 [898, 3030, 1204]\n",
            "596 [912, 898, 1201]\n",
            "597 [2571, 912, 3996]\n",
            "598 [1204, 3147, 158966]\n",
            "599 [1193, 527, 1251]\n",
            "600 [7156, 4878, 3030]\n",
            "601 [1204, 1104, 1208]\n",
            "602 [912, 904, 1204]\n",
            "603 [53123, 720, 48774]\n",
            "604 [1104, 1283, 58559]\n",
            "605 [1136, 930, 1283]\n",
            "606 [1148, 3030, 1248]\n",
            "607 [3972, 4878, 68358]\n",
            "608 [1201, 1259, 1086]\n",
            "609 [2959, 858, 1204]\n",
            "610 [3030, 1193, 1206]\n"
          ],
          "name": "stdout"
        }
      ]
    }
  ]
}