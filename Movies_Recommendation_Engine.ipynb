{
  "nbformat": 4,
  "nbformat_minor": 0,
  "metadata": {
    "colab": {
      "name": "Movies_Recommendation_Engine.ipynb",
      "provenance": [],
      "collapsed_sections": [],
      "include_colab_link": true
    },
    "kernelspec": {
      "name": "python3",
      "display_name": "Python 3"
    }
  },
  "cells": [
    {
      "cell_type": "markdown",
      "metadata": {
        "id": "view-in-github",
        "colab_type": "text"
      },
      "source": [
        "<a href=\"https://colab.research.google.com/github/victoraccete/movie-recommender-system/blob/main/Movies_Recommendation_Engine.ipynb\" target=\"_parent\"><img src=\"https://colab.research.google.com/assets/colab-badge.svg\" alt=\"Open In Colab\"/></a>"
      ]
    },
    {
      "cell_type": "markdown",
      "metadata": {
        "id": "u_0oQaUOA9CI"
      },
      "source": [
        "# Task 1: Introduction\n",
        "\n",
        "![Movies Collage](https://i.imgur.com/T7V0VZ6.png)\n",
        "\n",
        "For this project we are going to create a recommendation engine for movies for users based on there past behaviour.\n",
        "\n",
        "---\n",
        "\n",
        "We will focus on the **collaborative filtering** approach, that is: \n",
        "\n",
        "The user is recommended items that people with similar tastes and preferences liked in the past. In another word, this method predicts unknown ratings by using the similarities between users.\n",
        "\n",
        "---\n",
        "\n",
        "Note: This notebook uses `python 3` and these packages: `pandas`, `numpy`, `matplotlib` and `scikit-surprise`\n",
        "\n",
        "We can install them using:\n",
        "```Shell\n",
        "pip3 install pandas matplotlib numpy scikit-surprise\n",
        "```"
      ]
    },
    {
      "cell_type": "markdown",
      "metadata": {
        "id": "eMZcgcQsm-9y"
      },
      "source": [
        "## 1.1: Installing Libraries"
      ]
    },
    {
      "cell_type": "code",
      "metadata": {
        "id": "HNmYMKhCnITm",
        "outputId": "a6cff7a6-b379-4e99-cb0a-9700147d2ccd",
        "colab": {
          "base_uri": "https://localhost:8080/",
          "height": 292
        }
      },
      "source": [
        "print('>> Installing Libraries')\n",
        "\n",
        "!pip3 install pandas numpy scikit-surprise seaborn\n",
        "\n",
        "print('>> Libraries Installed')"
      ],
      "execution_count": 91,
      "outputs": [
        {
          "output_type": "stream",
          "text": [
            ">> Installing Libraries\n",
            "Requirement already satisfied: pandas in /usr/local/lib/python3.6/dist-packages (1.1.2)\n",
            "Requirement already satisfied: numpy in /usr/local/lib/python3.6/dist-packages (1.18.5)\n",
            "Requirement already satisfied: scikit-surprise in /usr/local/lib/python3.6/dist-packages (1.1.1)\n",
            "Requirement already satisfied: seaborn in /usr/local/lib/python3.6/dist-packages (0.11.0)\n",
            "Requirement already satisfied: python-dateutil>=2.7.3 in /usr/local/lib/python3.6/dist-packages (from pandas) (2.8.1)\n",
            "Requirement already satisfied: pytz>=2017.2 in /usr/local/lib/python3.6/dist-packages (from pandas) (2018.9)\n",
            "Requirement already satisfied: scipy>=1.0.0 in /usr/local/lib/python3.6/dist-packages (from scikit-surprise) (1.4.1)\n",
            "Requirement already satisfied: six>=1.10.0 in /usr/local/lib/python3.6/dist-packages (from scikit-surprise) (1.15.0)\n",
            "Requirement already satisfied: joblib>=0.11 in /usr/local/lib/python3.6/dist-packages (from scikit-surprise) (0.16.0)\n",
            "Requirement already satisfied: matplotlib>=2.2 in /usr/local/lib/python3.6/dist-packages (from seaborn) (3.2.2)\n",
            "Requirement already satisfied: cycler>=0.10 in /usr/local/lib/python3.6/dist-packages (from matplotlib>=2.2->seaborn) (0.10.0)\n",
            "Requirement already satisfied: kiwisolver>=1.0.1 in /usr/local/lib/python3.6/dist-packages (from matplotlib>=2.2->seaborn) (1.2.0)\n",
            "Requirement already satisfied: pyparsing!=2.0.4,!=2.1.2,!=2.1.6,>=2.0.1 in /usr/local/lib/python3.6/dist-packages (from matplotlib>=2.2->seaborn) (2.4.7)\n",
            ">> Libraries Installed\n"
          ],
          "name": "stdout"
        }
      ]
    },
    {
      "cell_type": "markdown",
      "metadata": {
        "id": "FYwbN6KqJjPo"
      },
      "source": [
        "## 1.2: Importing Libraries\n",
        "\n",
        "First of all, we will need to import some libraries. This includes surprise which we will use to create the recommendation system."
      ]
    },
    {
      "cell_type": "code",
      "metadata": {
        "id": "5OGYBAjxAzLC",
        "outputId": "bc77a75f-40cb-4131-cb39-21d1fe30dd1e",
        "colab": {
          "base_uri": "https://localhost:8080/",
          "height": 51
        }
      },
      "source": [
        "print('>> Importing Libraries')\n",
        "\n",
        "import pandas as pd\n",
        "\n",
        "from surprise import Reader, Dataset, SVD # SVD: single value decomposition\n",
        "\n",
        "from surprise.accuracy import rmse, mae\n",
        "from surprise.model_selection import cross_validate\n",
        "\n",
        "print('>> Libraries imported.')"
      ],
      "execution_count": 92,
      "outputs": [
        {
          "output_type": "stream",
          "text": [
            ">> Importing Libraries\n",
            ">> Libraries imported.\n"
          ],
          "name": "stdout"
        }
      ]
    },
    {
      "cell_type": "markdown",
      "metadata": {
        "id": "Zg9d8GR6A_rr"
      },
      "source": [
        "# Task 2: Importing Data\n",
        "\n",
        "We will use open-source dataset from GroupLens Research ([movielens.org](http://movielens.org))"
      ]
    },
    {
      "cell_type": "markdown",
      "metadata": {
        "id": "vS0k5tdWKSfZ"
      },
      "source": [
        "## 2.1: Importing the Data\n",
        "\n",
        "The dataset is saved in a `ratings.csv` file. We will use pandas to take a look at some of the rows."
      ]
    },
    {
      "cell_type": "code",
      "metadata": {
        "id": "3lbOmdPwKsPm",
        "outputId": "24ba67b7-4e26-4fa4-ff8a-404f57f16854",
        "colab": {
          "base_uri": "https://localhost:8080/",
          "height": 359
        }
      },
      "source": [
        "df = pd.read_csv('https://raw.githubusercontent.com/victoraccete/movie-recommender-system/main/ratings.csv')\n",
        "df.head(10)"
      ],
      "execution_count": 93,
      "outputs": [
        {
          "output_type": "execute_result",
          "data": {
            "text/html": [
              "<div>\n",
              "<style scoped>\n",
              "    .dataframe tbody tr th:only-of-type {\n",
              "        vertical-align: middle;\n",
              "    }\n",
              "\n",
              "    .dataframe tbody tr th {\n",
              "        vertical-align: top;\n",
              "    }\n",
              "\n",
              "    .dataframe thead th {\n",
              "        text-align: right;\n",
              "    }\n",
              "</style>\n",
              "<table border=\"1\" class=\"dataframe\">\n",
              "  <thead>\n",
              "    <tr style=\"text-align: right;\">\n",
              "      <th></th>\n",
              "      <th>userId</th>\n",
              "      <th>movieId</th>\n",
              "      <th>rating</th>\n",
              "      <th>timestamp</th>\n",
              "    </tr>\n",
              "  </thead>\n",
              "  <tbody>\n",
              "    <tr>\n",
              "      <th>0</th>\n",
              "      <td>1</td>\n",
              "      <td>1</td>\n",
              "      <td>4.0</td>\n",
              "      <td>964982703</td>\n",
              "    </tr>\n",
              "    <tr>\n",
              "      <th>1</th>\n",
              "      <td>1</td>\n",
              "      <td>3</td>\n",
              "      <td>4.0</td>\n",
              "      <td>964981247</td>\n",
              "    </tr>\n",
              "    <tr>\n",
              "      <th>2</th>\n",
              "      <td>1</td>\n",
              "      <td>6</td>\n",
              "      <td>4.0</td>\n",
              "      <td>964982224</td>\n",
              "    </tr>\n",
              "    <tr>\n",
              "      <th>3</th>\n",
              "      <td>1</td>\n",
              "      <td>47</td>\n",
              "      <td>5.0</td>\n",
              "      <td>964983815</td>\n",
              "    </tr>\n",
              "    <tr>\n",
              "      <th>4</th>\n",
              "      <td>1</td>\n",
              "      <td>50</td>\n",
              "      <td>5.0</td>\n",
              "      <td>964982931</td>\n",
              "    </tr>\n",
              "    <tr>\n",
              "      <th>5</th>\n",
              "      <td>1</td>\n",
              "      <td>70</td>\n",
              "      <td>3.0</td>\n",
              "      <td>964982400</td>\n",
              "    </tr>\n",
              "    <tr>\n",
              "      <th>6</th>\n",
              "      <td>1</td>\n",
              "      <td>101</td>\n",
              "      <td>5.0</td>\n",
              "      <td>964980868</td>\n",
              "    </tr>\n",
              "    <tr>\n",
              "      <th>7</th>\n",
              "      <td>1</td>\n",
              "      <td>110</td>\n",
              "      <td>4.0</td>\n",
              "      <td>964982176</td>\n",
              "    </tr>\n",
              "    <tr>\n",
              "      <th>8</th>\n",
              "      <td>1</td>\n",
              "      <td>151</td>\n",
              "      <td>5.0</td>\n",
              "      <td>964984041</td>\n",
              "    </tr>\n",
              "    <tr>\n",
              "      <th>9</th>\n",
              "      <td>1</td>\n",
              "      <td>157</td>\n",
              "      <td>5.0</td>\n",
              "      <td>964984100</td>\n",
              "    </tr>\n",
              "  </tbody>\n",
              "</table>\n",
              "</div>"
            ],
            "text/plain": [
              "   userId  movieId  rating  timestamp\n",
              "0       1        1     4.0  964982703\n",
              "1       1        3     4.0  964981247\n",
              "2       1        6     4.0  964982224\n",
              "3       1       47     5.0  964983815\n",
              "4       1       50     5.0  964982931\n",
              "5       1       70     3.0  964982400\n",
              "6       1      101     5.0  964980868\n",
              "7       1      110     4.0  964982176\n",
              "8       1      151     5.0  964984041\n",
              "9       1      157     5.0  964984100"
            ]
          },
          "metadata": {
            "tags": []
          },
          "execution_count": 93
        }
      ]
    },
    {
      "cell_type": "markdown",
      "metadata": {
        "id": "GvUhDQIgLOEY"
      },
      "source": [
        "## 2.2 Dropping timestamp\n",
        "\n",
        "We won't be using the timestamp when user gave the particular rating. So we will drop that column."
      ]
    },
    {
      "cell_type": "code",
      "metadata": {
        "id": "TXvWh3duLjiP",
        "outputId": "0847aa69-72f5-44b0-accc-d92590920201",
        "colab": {
          "base_uri": "https://localhost:8080/",
          "height": 204
        }
      },
      "source": [
        "df.drop('timestamp', axis=1, inplace=True)\n",
        "df.head()"
      ],
      "execution_count": 94,
      "outputs": [
        {
          "output_type": "execute_result",
          "data": {
            "text/html": [
              "<div>\n",
              "<style scoped>\n",
              "    .dataframe tbody tr th:only-of-type {\n",
              "        vertical-align: middle;\n",
              "    }\n",
              "\n",
              "    .dataframe tbody tr th {\n",
              "        vertical-align: top;\n",
              "    }\n",
              "\n",
              "    .dataframe thead th {\n",
              "        text-align: right;\n",
              "    }\n",
              "</style>\n",
              "<table border=\"1\" class=\"dataframe\">\n",
              "  <thead>\n",
              "    <tr style=\"text-align: right;\">\n",
              "      <th></th>\n",
              "      <th>userId</th>\n",
              "      <th>movieId</th>\n",
              "      <th>rating</th>\n",
              "    </tr>\n",
              "  </thead>\n",
              "  <tbody>\n",
              "    <tr>\n",
              "      <th>0</th>\n",
              "      <td>1</td>\n",
              "      <td>1</td>\n",
              "      <td>4.0</td>\n",
              "    </tr>\n",
              "    <tr>\n",
              "      <th>1</th>\n",
              "      <td>1</td>\n",
              "      <td>3</td>\n",
              "      <td>4.0</td>\n",
              "    </tr>\n",
              "    <tr>\n",
              "      <th>2</th>\n",
              "      <td>1</td>\n",
              "      <td>6</td>\n",
              "      <td>4.0</td>\n",
              "    </tr>\n",
              "    <tr>\n",
              "      <th>3</th>\n",
              "      <td>1</td>\n",
              "      <td>47</td>\n",
              "      <td>5.0</td>\n",
              "    </tr>\n",
              "    <tr>\n",
              "      <th>4</th>\n",
              "      <td>1</td>\n",
              "      <td>50</td>\n",
              "      <td>5.0</td>\n",
              "    </tr>\n",
              "  </tbody>\n",
              "</table>\n",
              "</div>"
            ],
            "text/plain": [
              "   userId  movieId  rating\n",
              "0       1        1     4.0\n",
              "1       1        3     4.0\n",
              "2       1        6     4.0\n",
              "3       1       47     5.0\n",
              "4       1       50     5.0"
            ]
          },
          "metadata": {
            "tags": []
          },
          "execution_count": 94
        }
      ]
    },
    {
      "cell_type": "markdown",
      "metadata": {
        "id": "OPEBn0gAK-5m"
      },
      "source": [
        "## 2.3 Check for Missing Data\n",
        "\n",
        "It's a good practice to check if the data has any missing values. In real world data, this is quite common and must be taken care of before any data pre-processing or model training."
      ]
    },
    {
      "cell_type": "code",
      "metadata": {
        "id": "BfBqk7KkLFV6",
        "outputId": "55ffbf68-c3da-4c43-e937-8caf03b44dac",
        "colab": {
          "base_uri": "https://localhost:8080/",
          "height": 85
        }
      },
      "source": [
        "df.isna().sum() # the data has been previously cleaned. later on will try with unclean data"
      ],
      "execution_count": 95,
      "outputs": [
        {
          "output_type": "execute_result",
          "data": {
            "text/plain": [
              "userId     0\n",
              "movieId    0\n",
              "rating     0\n",
              "dtype: int64"
            ]
          },
          "metadata": {
            "tags": []
          },
          "execution_count": 95
        }
      ]
    },
    {
      "cell_type": "markdown",
      "metadata": {
        "id": "FQYVA-J5MCUG"
      },
      "source": [
        "# Task 3: EDA (Exploratory data analysis)\n",
        "\n",
        "In statistics, exploratory data analysis is an approach to analyzing data sets to summarize their main characteristics."
      ]
    },
    {
      "cell_type": "markdown",
      "metadata": {
        "id": "XJ0CD6ZiOpRI"
      },
      "source": [
        "## 3.1 Number of movies/users"
      ]
    },
    {
      "cell_type": "code",
      "metadata": {
        "id": "vnEIeAO6Psj2",
        "outputId": "123eda7f-72e0-40c5-855d-56d195fb2ddf",
        "colab": {
          "base_uri": "https://localhost:8080/",
          "height": 34
        }
      },
      "source": [
        "n_movies, n_users = df.movieId.nunique(), df.userId.nunique()\n",
        "print(n_movies, n_users)"
      ],
      "execution_count": 96,
      "outputs": [
        {
          "output_type": "stream",
          "text": [
            "9724 610\n"
          ],
          "name": "stdout"
        }
      ]
    },
    {
      "cell_type": "markdown",
      "metadata": {
        "id": "dclqP0iXOo_F"
      },
      "source": [
        "## 3.2 Sparsity of our data\n",
        "\n",
        "Sparsity (%) = `(No of missing values/ (Total Values))X100`"
      ]
    },
    {
      "cell_type": "code",
      "metadata": {
        "id": "xPYF0zlfREMK",
        "outputId": "02354c13-ebf3-406d-aad9-19a6fd18eca1",
        "colab": {
          "base_uri": "https://localhost:8080/",
          "height": 34
        }
      },
      "source": [
        "available_ratings = df.rating.count()\n",
        "total_ratings = n_movies*n_users\n",
        "missing_ratings = total_ratings - available_ratings\n",
        "sparsity = (missing_ratings/total_ratings) * 100\n",
        "print(f'Sparsity: {sparsity}%')"
      ],
      "execution_count": 97,
      "outputs": [
        {
          "output_type": "stream",
          "text": [
            "Sparsity: 98.30003169443864%\n"
          ],
          "name": "stdout"
        }
      ]
    },
    {
      "cell_type": "markdown",
      "metadata": {
        "id": "kcYDLtG5Ok_p"
      },
      "source": [
        "## 3.3 Ratings Distribution"
      ]
    },
    {
      "cell_type": "code",
      "metadata": {
        "id": "ZO7Mv-jdL4_z",
        "outputId": "1de71724-122c-4ebe-ea6b-e78ae356e977",
        "colab": {
          "base_uri": "https://localhost:8080/",
          "height": 288
        }
      },
      "source": [
        "df.rating.value_counts().plot(kind='bar')"
      ],
      "execution_count": 98,
      "outputs": [
        {
          "output_type": "execute_result",
          "data": {
            "text/plain": [
              "<matplotlib.axes._subplots.AxesSubplot at 0x7fccc2e7a2e8>"
            ]
          },
          "metadata": {
            "tags": []
          },
          "execution_count": 98
        },
        {
          "output_type": "display_data",
          "data": {
            "image/png": "[encoded data removed]",
            "text/plain": [
              "<Figure size 432x288 with 1 Axes>"
            ]
          },
          "metadata": {
            "tags": [],
            "needs_background": "light"
          }
        }
      ]
    },
    {
      "cell_type": "markdown",
      "metadata": {
        "id": "xdLsIItxSd9K"
      },
      "source": [
        "# Task 4: Dimensionality Reduction\n",
        "\n",
        "To reduce the dimensionality of the dataset, we will filter out rarely rated movies and rarely rating users"
      ]
    },
    {
      "cell_type": "markdown",
      "metadata": {
        "id": "i3jYt3m5TNVL"
      },
      "source": [
        "## 4.1 Filter movies with less than 3 ratings"
      ]
    },
    {
      "cell_type": "code",
      "metadata": {
        "id": "msZU9YSxSeUo",
        "outputId": "d5b53ab2-dbdf-498b-ec2a-b96f7c6399d0",
        "colab": {
          "base_uri": "https://localhost:8080/",
          "height": 51
        }
      },
      "source": [
        "filter_movies = df.movieId.value_counts() > 3\n",
        "print(len(filter_movies))\n",
        "filter_movies = filter_movies[filter_movies].index.tolist()\n",
        "print(len(filter_movies)) "
      ],
      "execution_count": 99,
      "outputs": [
        {
          "output_type": "stream",
          "text": [
            "9724\n",
            "4180\n"
          ],
          "name": "stdout"
        }
      ]
    },
    {
      "cell_type": "markdown",
      "metadata": {
        "id": "IYaMxlXcTdGS"
      },
      "source": [
        "## 4.2 Filter users with less than 3 movies rated"
      ]
    },
    {
      "cell_type": "code",
      "metadata": {
        "id": "WPeNAggIS-Y_",
        "outputId": "e065e32e-1a77-46d6-a46f-d05cb5cc4eb4",
        "colab": {
          "base_uri": "https://localhost:8080/",
          "height": 51
        }
      },
      "source": [
        "filter_users = df.userId.value_counts() > 3\n",
        "print(len(filter_users))\n",
        "filter_users = filter_users[filter_users].index.tolist()\n",
        "print(len(filter_users))"
      ],
      "execution_count": 100,
      "outputs": [
        {
          "output_type": "stream",
          "text": [
            "610\n",
            "610\n"
          ],
          "name": "stdout"
        }
      ]
    },
    {
      "cell_type": "code",
      "metadata": {
        "id": "osgVzZI3UDHM",
        "outputId": "fc61a8c5-175d-4c86-f150-8c3183ab7a1a",
        "colab": {
          "base_uri": "https://localhost:8080/",
          "height": 34
        }
      },
      "source": [
        "df.shape"
      ],
      "execution_count": 101,
      "outputs": [
        {
          "output_type": "execute_result",
          "data": {
            "text/plain": [
              "(100836, 3)"
            ]
          },
          "metadata": {
            "tags": []
          },
          "execution_count": 101
        }
      ]
    },
    {
      "cell_type": "markdown",
      "metadata": {
        "id": "c2LFIAGXT3ro"
      },
      "source": [
        "## 4.3 Remove rarely rated movies and rarely rating users"
      ]
    },
    {
      "cell_type": "code",
      "metadata": {
        "id": "tTUG4ao6S_x7",
        "outputId": "33d88003-2b7e-4687-812d-f40baa82fb20",
        "colab": {
          "base_uri": "https://localhost:8080/",
          "height": 34
        }
      },
      "source": [
        "df = df[(df.movieId.isin(filter_movies)) & (df.userId.isin(filter_users))]\n",
        "df.shape"
      ],
      "execution_count": 102,
      "outputs": [
        {
          "output_type": "execute_result",
          "data": {
            "text/plain": [
              "(92394, 3)"
            ]
          },
          "metadata": {
            "tags": []
          },
          "execution_count": 102
        }
      ]
    },
    {
      "cell_type": "markdown",
      "metadata": {
        "id": "TbviZWiPM3jQ"
      },
      "source": [
        "# Task 5: Create Training and Test Sets"
      ]
    },
    {
      "cell_type": "markdown",
      "metadata": {
        "id": "TIK2L0VuhbgA"
      },
      "source": [
        "## 5.1 Columns used for training"
      ]
    },
    {
      "cell_type": "code",
      "metadata": {
        "id": "bXF4dmJKhF7q"
      },
      "source": [
        "cols = ['userId', 'movieId', 'rating']"
      ],
      "execution_count": 103,
      "outputs": []
    },
    {
      "cell_type": "markdown",
      "metadata": {
        "id": "J8rylnJmUjYk"
      },
      "source": [
        "## 5.2 Create surprise dataset"
      ]
    },
    {
      "cell_type": "code",
      "metadata": {
        "id": "4UOTMUssM6Tw"
      },
      "source": [
        "reader = Reader(rating_scale=(0.5, 5))\n",
        "data = Dataset.load_from_df(df[cols], reader)"
      ],
      "execution_count": 104,
      "outputs": []
    },
    {
      "cell_type": "markdown",
      "metadata": {
        "id": "8lM--CdvguDz"
      },
      "source": [
        "## 5.3 Create Train-set and Prediction-set"
      ]
    },
    {
      "cell_type": "code",
      "metadata": {
        "id": "heITVvtvU1FD"
      },
      "source": [
        "train_set = data.build_full_trainset() # used to train the model\n",
        "anti_testset = train_set.build_anti_testset() # combination of users and movies that do not have data yet, used for the predictions"
      ],
      "execution_count": 105,
      "outputs": []
    },
    {
      "cell_type": "markdown",
      "metadata": {
        "id": "AYfhHDReuO5h"
      },
      "source": [
        "# Task 6: Creating and training the model"
      ]
    },
    {
      "cell_type": "markdown",
      "metadata": {
        "id": "R4e28tFHubv9"
      },
      "source": [
        "## 6.1 Creating the model\n",
        "\n",
        "**SVD (Singular Value Decomposition)**\n",
        "\n",
        "Interaction Matrix = A X B X C"
      ]
    },
    {
      "cell_type": "code",
      "metadata": {
        "id": "Ft4rS3L-hqeS",
        "outputId": "dc081756-b7d3-49a6-be73-c9aca0d904e9",
        "colab": {
          "base_uri": "https://localhost:8080/",
          "height": 34
        }
      },
      "source": [
        "algo = SVD(n_epochs=25, verbose=True)\n",
        "algo"
      ],
      "execution_count": 106,
      "outputs": [
        {
          "output_type": "execute_result",
          "data": {
            "text/plain": [
              "<surprise.prediction_algorithms.matrix_factorization.SVD at 0x7fcccc68bda0>"
            ]
          },
          "metadata": {
            "tags": []
          },
          "execution_count": 106
        }
      ]
    },
    {
      "cell_type": "markdown",
      "metadata": {
        "id": "h_16sRpXwahF"
      },
      "source": [
        "## 6.2 Training the model\n",
        "\n",
        "**Mean Absolute Error (MAE)**: MAE measures the average magnitude of the errors in a set of predictions, without considering their direction. \n",
        "\n",
        "**Root mean squared error (RMSE)**:  RMSE is the square root of the average of squared differences between prediction and actual observation."
      ]
    },
    {
      "cell_type": "code",
      "metadata": {
        "id": "nh-E5DS5wYe_",
        "outputId": "b13954b0-19d3-40f3-ba81-87587c0c5881",
        "colab": {
          "base_uri": "https://localhost:8080/",
          "height": 1000
        }
      },
      "source": [
        "cross_validate(algo=algo, data=data, measures=['RMSE', 'MAE'], cv=5, verbose=True)"
      ],
      "execution_count": 107,
      "outputs": [
        {
          "output_type": "stream",
          "text": [
            "Processing epoch 0\n",
            "Processing epoch 1\n",
            "Processing epoch 2\n",
            "Processing epoch 3\n",
            "Processing epoch 4\n",
            "Processing epoch 5\n",
            "Processing epoch 6\n",
            "Processing epoch 7\n",
            "Processing epoch 8\n",
            "Processing epoch 9\n",
            "Processing epoch 10\n",
            "Processing epoch 11\n",
            "Processing epoch 12\n",
            "Processing epoch 13\n",
            "Processing epoch 14\n",
            "Processing epoch 15\n",
            "Processing epoch 16\n",
            "Processing epoch 17\n",
            "Processing epoch 18\n",
            "Processing epoch 19\n",
            "Processing epoch 20\n",
            "Processing epoch 21\n",
            "Processing epoch 22\n",
            "Processing epoch 23\n",
            "Processing epoch 24\n",
            "Processing epoch 0\n",
            "Processing epoch 1\n",
            "Processing epoch 2\n",
            "Processing epoch 3\n",
            "Processing epoch 4\n",
            "Processing epoch 5\n",
            "Processing epoch 6\n",
            "Processing epoch 7\n",
            "Processing epoch 8\n",
            "Processing epoch 9\n",
            "Processing epoch 10\n",
            "Processing epoch 11\n",
            "Processing epoch 12\n",
            "Processing epoch 13\n",
            "Processing epoch 14\n",
            "Processing epoch 15\n",
            "Processing epoch 16\n",
            "Processing epoch 17\n",
            "Processing epoch 18\n",
            "Processing epoch 19\n",
            "Processing epoch 20\n",
            "Processing epoch 21\n",
            "Processing epoch 22\n",
            "Processing epoch 23\n",
            "Processing epoch 24\n",
            "Processing epoch 0\n",
            "Processing epoch 1\n",
            "Processing epoch 2\n",
            "Processing epoch 3\n",
            "Processing epoch 4\n",
            "Processing epoch 5\n",
            "Processing epoch 6\n",
            "Processing epoch 7\n",
            "Processing epoch 8\n",
            "Processing epoch 9\n",
            "Processing epoch 10\n",
            "Processing epoch 11\n",
            "Processing epoch 12\n",
            "Processing epoch 13\n",
            "Processing epoch 14\n",
            "Processing epoch 15\n",
            "Processing epoch 16\n",
            "Processing epoch 17\n",
            "Processing epoch 18\n",
            "Processing epoch 19\n",
            "Processing epoch 20\n",
            "Processing epoch 21\n",
            "Processing epoch 22\n",
            "Processing epoch 23\n",
            "Processing epoch 24\n",
            "Processing epoch 0\n",
            "Processing epoch 1\n",
            "Processing epoch 2\n",
            "Processing epoch 3\n",
            "Processing epoch 4\n",
            "Processing epoch 5\n",
            "Processing epoch 6\n",
            "Processing epoch 7\n",
            "Processing epoch 8\n",
            "Processing epoch 9\n",
            "Processing epoch 10\n",
            "Processing epoch 11\n",
            "Processing epoch 12\n",
            "Processing epoch 13\n",
            "Processing epoch 14\n",
            "Processing epoch 15\n",
            "Processing epoch 16\n",
            "Processing epoch 17\n",
            "Processing epoch 18\n",
            "Processing epoch 19\n",
            "Processing epoch 20\n",
            "Processing epoch 21\n",
            "Processing epoch 22\n",
            "Processing epoch 23\n",
            "Processing epoch 24\n",
            "Processing epoch 0\n",
            "Processing epoch 1\n",
            "Processing epoch 2\n",
            "Processing epoch 3\n",
            "Processing epoch 4\n",
            "Processing epoch 5\n",
            "Processing epoch 6\n",
            "Processing epoch 7\n",
            "Processing epoch 8\n",
            "Processing epoch 9\n",
            "Processing epoch 10\n",
            "Processing epoch 11\n",
            "Processing epoch 12\n",
            "Processing epoch 13\n",
            "Processing epoch 14\n",
            "Processing epoch 15\n",
            "Processing epoch 16\n",
            "Processing epoch 17\n",
            "Processing epoch 18\n",
            "Processing epoch 19\n",
            "Processing epoch 20\n",
            "Processing epoch 21\n",
            "Processing epoch 22\n",
            "Processing epoch 23\n",
            "Processing epoch 24\n",
            "Evaluating RMSE, MAE of algorithm SVD on 5 split(s).\n",
            "\n",
            "                  Fold 1  Fold 2  Fold 3  Fold 4  Fold 5  Mean    Std     \n",
            "RMSE (testset)    0.8586  0.8584  0.8668  0.8561  0.8547  0.8589  0.0042  \n",
            "MAE (testset)     0.6593  0.6588  0.6627  0.6581  0.6567  0.6591  0.0020  \n",
            "Fit time          5.47    5.47    5.53    5.51    5.50    5.50    0.02    \n",
            "Test time         0.12    0.14    0.15    0.12    0.13    0.13    0.01    \n"
          ],
          "name": "stdout"
        },
        {
          "output_type": "execute_result",
          "data": {
            "text/plain": [
              "{'fit_time': (5.4715306758880615,\n",
              "  5.471261739730835,\n",
              "  5.531003952026367,\n",
              "  5.507811546325684,\n",
              "  5.497114658355713),\n",
              " 'test_mae': array([0.65927359, 0.65879921, 0.66273998, 0.65808131, 0.65670866]),\n",
              " 'test_rmse': array([0.85858748, 0.85835   , 0.86682079, 0.85610605, 0.8547329 ]),\n",
              " 'test_time': (0.12046051025390625,\n",
              "  0.13714861869812012,\n",
              "  0.15229463577270508,\n",
              "  0.11745285987854004,\n",
              "  0.13383746147155762)}"
            ]
          },
          "metadata": {
            "tags": []
          },
          "execution_count": 107
        }
      ]
    },
    {
      "cell_type": "markdown",
      "metadata": {
        "id": "zTnqbNt_xkKS"
      },
      "source": [
        "# Task 7: Predictions"
      ]
    },
    {
      "cell_type": "markdown",
      "metadata": {
        "id": "ma3oQr1Ax_Hg"
      },
      "source": [
        "## 7.1 Predict ratings for all pairs (user, items) that are NOT in the training set."
      ]
    },
    {
      "cell_type": "code",
      "metadata": {
        "id": "_K3EmIs3wxhW"
      },
      "source": [
        "predictions = algo.test(anti_testset)"
      ],
      "execution_count": 108,
      "outputs": []
    },
    {
      "cell_type": "code",
      "metadata": {
        "id": "RkqiEwM9z4Jf",
        "outputId": "89128c12-ce31-4ec5-aa87-5212c65a5aec",
        "colab": {
          "base_uri": "https://localhost:8080/",
          "height": 34
        }
      },
      "source": [
        "predictions[0]"
      ],
      "execution_count": 109,
      "outputs": [
        {
          "output_type": "execute_result",
          "data": {
            "text/plain": [
              "Prediction(uid=1, iid=318, r_ui=3.529119856267723, est=5, details={'was_impossible': False})"
            ]
          },
          "metadata": {
            "tags": []
          },
          "execution_count": 109
        }
      ]
    },
    {
      "cell_type": "markdown",
      "metadata": {
        "id": "9FIEhKQSbS4F"
      },
      "source": [
        "The model **estimates** that our **user 1** will rate the **movie with id 318** with **5 stars**.  \n",
        "**r_ui** is the true rating.  "
      ]
    },
    {
      "cell_type": "markdown",
      "metadata": {
        "id": "lRmzGn63ze8b"
      },
      "source": [
        "## 7.2 Recommending top 3 movies movies based on predictions"
      ]
    },
    {
      "cell_type": "code",
      "metadata": {
        "id": "q3Ugauv0119g",
        "outputId": "991aba7c-dd06-41b4-efe6-5d99a3a40471",
        "colab": {
          "base_uri": "https://localhost:8080/",
          "height": 1000
        }
      },
      "source": [
        "from collections import defaultdict\n",
        "def get_top_n(predictions: list, n=1) -> int:\n",
        "  \"\"\"returns the top n predictions for every user, given the predictions list\"\"\"\n",
        "  top_n = defaultdict(list)\n",
        "  for uid, iid, _, est, _ in predictions:\n",
        "    top_n[uid].append((iid, est))\n",
        "  \n",
        "  for uid, user_ratings in top_n.items():\n",
        "    user_ratings.sort(key=lambda x: x[1], reverse=True)\n",
        "    top_n[uid] = user_ratings[:n]\n",
        "  \n",
        "  return top_n\n",
        "  \n",
        "\n",
        "top_n = get_top_n(predictions, n=3)\n",
        "\n",
        "for uid, user_ratings in top_n.items():\n",
        "  print(uid, [iid for (iid, rating) in user_ratings])\n"
      ],
      "execution_count": 111,
      "outputs": [
        {
          "output_type": "stream",
          "text": [
            "1 [318, 58559, 112552]\n",
            "2 [2571, 110, 1197]\n",
            "3 [58559, 4226, 1197]\n",
            "4 [56782, 1193, 48780]\n",
            "5 [1204, 1104, 5618]\n",
            "6 [1198, 8368, 2959]\n",
            "7 [58559, 1275, 296]\n",
            "8 [1283, 541, 1204]\n",
            "9 [2959, 318, 4973]\n",
            "10 [750, 1210, 541]\n",
            "11 [1217, 1204, 1719]\n",
            "12 [6, 50, 110]\n",
            "13 [1204, 260, 1945]\n",
            "14 [3451, 1197, 1204]\n",
            "15 [953, 750, 2324]\n",
            "16 [1204, 1245, 56782]\n",
            "17 [1217, 4011, 1223]\n",
            "18 [750, 2858, 1262]\n",
            "19 [527, 296, 4226]\n",
            "20 [1198, 1270, 2571]\n",
            "21 [46578, 34405, 2329]\n",
            "22 [34405, 1198, 1218]\n",
            "23 [260, 1196, 3275]\n",
            "24 [1204, 953, 1104]\n",
            "25 [593, 1089, 1197]\n",
            "26 [2959, 750, 50]\n",
            "27 [2571, 3552, 4226]\n",
            "28 [1258, 2160, 1237]\n",
            "29 [541, 475, 3275]\n",
            "30 [441, 2959, 898]\n",
            "31 [5617, 112552, 1245]\n",
            "32 [4973, 1242, 1210]\n",
            "33 [1178, 1204, 112552]\n",
            "34 [912, 51255, 1387]\n",
            "35 [2571, 1242, 4973]\n",
            "36 [260, 1196, 1217]\n",
            "37 [1136, 27773, 1204]\n",
            "38 [908, 1233, 1242]\n",
            "39 [750, 1201, 71899]\n",
            "40 [527, 1104, 2324]\n",
            "41 [3266, 1215, 933]\n",
            "42 [4226, 5995, 2761]\n",
            "43 [6, 50, 260]\n",
            "44 [318, 1196, 527]\n",
            "45 [1247, 908, 1245]\n",
            "46 [112552, 57669, 2700]\n",
            "47 [3030, 7371, 1276]\n",
            "48 [356, 318, 1283]\n",
            "49 [260, 1213, 750]\n",
            "50 [4973, 1288, 1222]\n",
            "51 [356, 1197, 1210]\n",
            "52 [3147, 112552, 27773]\n",
            "53 [6, 50, 101]\n",
            "54 [1197, 2571, 4993]\n",
            "55 [318, 858, 4973]\n",
            "56 [750, 1213, 1136]\n",
            "57 [4973, 48516, 318]\n",
            "58 [1197, 951, 1283]\n",
            "59 [1278, 914, 1203]\n",
            "60 [898, 7153, 912]\n",
            "61 [858, 296, 4973]\n",
            "62 [1266, 1228, 1148]\n",
            "63 [1178, 1217, 68157]\n",
            "64 [1262, 914, 1198]\n",
            "65 [1204, 1283, 2858]\n",
            "66 [750, 4973, 1208]\n",
            "67 [750, 1233, 1228]\n",
            "68 [112552, 3814, 31658]\n",
            "69 [2959, 2324, 4226]\n",
            "70 [1178, 27773, 4226]\n",
            "71 [356, 318, 1104]\n",
            "72 [1217, 750, 4993]\n",
            "73 [296, 1201, 1213]\n",
            "74 [318, 2959, 1204]\n",
            "75 [7361, 318, 1213]\n",
            "76 [4993, 7361, 4973]\n",
            "77 [319, 318, 608]\n",
            "78 [1196, 1210, 1148]\n",
            "79 [3451, 2858, 1283]\n",
            "80 [7361, 541, 4973]\n",
            "81 [1204, 1283, 933]\n",
            "82 [58559, 56782, 1237]\n",
            "83 [1198, 910, 1089]\n",
            "84 [7361, 1089, 1221]\n",
            "85 [541, 750, 1204]\n",
            "86 [4973, 1204, 56782]\n",
            "87 [318, 922, 1272]\n",
            "88 [1104, 2959, 296]\n",
            "89 [77455, 2542, 1204]\n",
            "90 [296, 1945, 1204]\n",
            "91 [4973, 27773, 1178]\n",
            "92 [2761, 1104, 912]\n",
            "93 [441, 1089, 1136]\n",
            "94 [1197, 866, 1217]\n",
            "95 [1222, 1148, 1266]\n",
            "96 [1213, 318, 112552]\n",
            "97 [318, 750, 1204]\n",
            "98 [1228, 1276, 8042]\n",
            "99 [364, 1245, 1250]\n",
            "100 [908, 318, 176]\n",
            "101 [318, 858, 720]\n",
            "102 [912, 1204, 2571]\n",
            "103 [1281, 933, 1212]\n",
            "104 [1250, 111, 912]\n",
            "105 [3435, 908, 1217]\n",
            "106 [260, 1196, 858]\n",
            "107 [1210, 3451, 908]\n",
            "108 [356, 593, 1222]\n",
            "109 [1945, 608, 1245]\n",
            "110 [750, 4226, 593]\n",
            "111 [953, 908, 34405]\n",
            "112 [4226, 8368, 81834]\n",
            "113 [68954, 1097, 5617]\n",
            "114 [2160, 908, 1089]\n",
            "115 [1945, 1204, 858]\n",
            "116 [909, 142488, 1237]\n",
            "117 [1104, 1242, 3451]\n",
            "118 [318, 1198, 1217]\n",
            "119 [608, 750, 4011]\n",
            "120 [1197, 318, 356]\n",
            "121 [750, 4973, 1215]\n",
            "122 [441, 1198, 1258]\n",
            "123 [56782, 953, 1204]\n",
            "124 [1945, 1204, 1283]\n",
            "125 [1104, 750, 913]\n",
            "126 [919, 1250, 912]\n",
            "127 [50, 1104, 858]\n",
            "128 [7153, 318, 1217]\n",
            "129 [318, 1245, 356]\n",
            "130 [858, 750, 1217]\n",
            "131 [1204, 2324, 1172]\n",
            "132 [1945, 3468, 1237]\n",
            "133 [1272, 1204, 741]\n",
            "134 [356, 2160, 3451]\n",
            "135 [8874, 1221, 750]\n",
            "136 [318, 953, 1246]\n",
            "137 [2858, 898, 909]\n",
            "138 [1245, 3275, 1204]\n",
            "139 [318, 922, 1288]\n",
            "140 [1374, 1172, 908]\n",
            "141 [1283, 2360, 49272]\n",
            "142 [1204, 318, 1208]\n",
            "143 [750, 1148, 27773]\n",
            "144 [2324, 27773, 1197]\n",
            "145 [1245, 1283, 858]\n",
            "146 [1276, 2959, 1136]\n",
            "147 [593, 1217, 912]\n",
            "148 [608, 858, 1217]\n",
            "149 [4226, 2324, 1204]\n",
            "150 [318, 2324, 1276]\n",
            "151 [318, 1204, 51255]\n",
            "152 [1283, 1208, 1217]\n",
            "153 [3083, 318, 4993]\n",
            "154 [2959, 3703, 318]\n",
            "155 [1104, 1278, 58559]\n",
            "156 [1104, 2959, 5747]\n",
            "157 [541, 1196, 56782]\n",
            "158 [1276, 4226, 593]\n",
            "159 [922, 5690, 1394]\n",
            "160 [4973, 56367, 27773]\n",
            "161 [3435, 4993, 1217]\n",
            "162 [1203, 750, 3275]\n",
            "163 [2324, 4973, 318]\n",
            "164 [750, 593, 3949]\n",
            "165 [4973, 5617, 318]\n",
            "166 [1217, 912, 1223]\n",
            "167 [1262, 3451, 1266]\n",
            "168 [4993, 6711, 1283]\n",
            "169 [1208, 1272, 912]\n",
            "170 [2160, 1104, 4973]\n",
            "171 [6, 50, 110]\n",
            "172 [1198, 2959, 1204]\n",
            "173 [908, 3578, 1250]\n",
            "174 [2959, 1283, 908]\n",
            "175 [318, 260, 3147]\n",
            "176 [1204, 1283, 3451]\n",
            "177 [1250, 4011, 1276]\n",
            "178 [898, 1242, 1262]\n",
            "179 [1204, 953, 1233]\n",
            "180 [296, 318, 750]\n",
            "181 [318, 112552, 7371]\n",
            "182 [2019, 1256, 48780]\n",
            "183 [1283, 1089, 3451]\n",
            "184 [4973, 912, 3030]\n",
            "185 [318, 50, 858]\n",
            "186 [318, 356, 56782]\n",
            "187 [1233, 293, 1178]\n",
            "188 [2959, 318, 1704]\n",
            "189 [1204, 750, 1208]\n",
            "190 [296, 922, 260]\n",
            "191 [1221, 2571, 858]\n",
            "192 [318, 3451, 912]\n",
            "193 [912, 914, 1217]\n",
            "194 [2160, 7153, 1198]\n",
            "195 [2324, 1242, 8961]\n",
            "196 [318, 1204, 593]\n",
            "197 [1210, 1196, 260]\n",
            "198 [3508, 7153, 308]\n",
            "199 [2959, 6711, 1394]\n",
            "200 [1228, 912, 3996]\n",
            "201 [4973, 4011, 2959]\n",
            "202 [527, 904, 1673]\n",
            "203 [4973, 1411, 1204]\n",
            "204 [1204, 57669, 898]\n",
            "205 [318, 1197, 2324]\n",
            "206 [4973, 1148, 1213]\n",
            "207 [1198, 56782, 58559]\n",
            "208 [356, 318, 1136]\n",
            "209 [4973, 741, 296]\n",
            "210 [750, 1272, 1217]\n",
            "211 [110, 1270, 1411]\n",
            "212 [953, 1217, 1245]\n",
            "213 [1242, 1197, 1945]\n",
            "214 [318, 296, 34405]\n",
            "215 [1272, 898, 1250]\n",
            "216 [527, 720, 904]\n",
            "217 [112552, 6377, 908]\n",
            "218 [318, 2571, 1233]\n",
            "219 [898, 1237, 79132]\n",
            "220 [1204, 1104, 898]\n",
            "221 [3468, 1209, 1217]\n",
            "222 [1210, 318, 260]\n",
            "223 [1197, 750, 2324]\n",
            "224 [318, 908, 4144]\n",
            "225 [541, 4144, 58559]\n",
            "226 [924, 4973, 541]\n",
            "227 [4973, 1201, 475]\n",
            "228 [750, 56782, 142488]\n",
            "229 [1204, 608, 1248]\n",
            "230 [1237, 356, 3508]\n",
            "231 [750, 1217, 4226]\n",
            "232 [593, 1204, 3703]\n",
            "233 [953, 1196, 1209]\n",
            "234 [953, 3916, 912]\n",
            "235 [2571, 912, 750]\n",
            "236 [50, 296, 4973]\n",
            "237 [750, 4973, 1104]\n",
            "238 [318, 1945, 750]\n",
            "239 [1242, 27773, 1204]\n",
            "240 [750, 1204, 2067]\n",
            "241 [1245, 1228, 1225]\n",
            "242 [1204, 1209, 1283]\n",
            "243 [50, 260, 593]\n",
            "244 [2959, 318, 750]\n",
            "245 [318, 1262, 750]\n",
            "246 [58559, 56782, 1204]\n",
            "247 [3451, 1178, 162]\n",
            "248 [750, 2324, 1204]\n",
            "249 [1242, 2019, 1283]\n",
            "250 [1196, 858, 4973]\n",
            "251 [1196, 1213, 1272]\n",
            "252 [296, 1104, 2959]\n",
            "253 [50, 2571, 741]\n",
            "254 [750, 2324, 1198]\n",
            "255 [1197, 475, 1288]\n",
            "256 [908, 1204, 457]\n",
            "257 [1278, 112552, 2959]\n",
            "258 [4993, 4011, 1104]\n",
            "259 [608, 3147, 1210]\n",
            "260 [858, 1198, 57669]\n",
            "261 [3451, 260, 904]\n",
            "262 [1283, 750, 1204]\n",
            "263 [1262, 898, 1204]\n",
            "264 [1204, 1276, 3451]\n",
            "265 [356, 3703, 1234]\n",
            "266 [3159, 3468, 2858]\n",
            "267 [318, 6440, 27773]\n",
            "268 [912, 4993, 1204]\n",
            "269 [4973, 318, 750]\n",
            "270 [1197, 593, 3451]\n",
            "271 [318, 1210, 260]\n",
            "272 [908, 1228, 898]\n",
            "273 [1204, 1178, 912]\n",
            "274 [1204, 1242, 1249]\n",
            "275 [7361, 1262, 741]\n",
            "276 [6, 47, 50]\n",
            "277 [1288, 50, 1198]\n",
            "278 [593, 1197, 1136]\n",
            "279 [34405, 1193, 3030]\n",
            "280 [750, 4993, 57669]\n",
            "281 [2959, 296, 4226]\n",
            "282 [56782, 1242, 1266]\n",
            "283 [4973, 922, 1237]\n",
            "284 [922, 750, 593]\n",
            "285 [1204, 750, 2067]\n",
            "286 [318, 1242, 50]\n",
            "287 [1258, 47, 57669]\n",
            "288 [858, 1221, 4973]\n",
            "289 [1945, 4973, 7371]\n",
            "290 [1104, 4973, 922]\n",
            "291 [356, 475, 741]\n",
            "292 [922, 7022, 1217]\n",
            "293 [318, 356, 58559]\n",
            "294 [2959, 318, 2324]\n",
            "295 [1248, 913, 593]\n",
            "296 [1208, 858, 81845]\n",
            "297 [4973, 260, 2959]\n",
            "298 [527, 1243, 3000]\n",
            "299 [750, 56782, 1217]\n",
            "300 [1217, 1204, 750]\n",
            "301 [908, 1217, 898]\n",
            "302 [1945, 4226, 1089]\n",
            "303 [110, 1204, 4995]\n",
            "304 [1262, 56782, 953]\n",
            "305 [7361, 3266, 3703]\n",
            "306 [1204, 951, 908]\n",
            "307 [99114, 898, 1104]\n",
            "308 [112552, 149406, 4642]\n",
            "309 [750, 1945, 58559]\n",
            "310 [4011, 296, 3703]\n",
            "311 [541, 1209, 3703]\n",
            "312 [858, 1221, 4973]\n",
            "313 [590, 110, 2010]\n",
            "314 [541, 1208, 858]\n",
            "315 [110, 3451, 1245]\n",
            "316 [593, 912, 1283]\n",
            "317 [541, 1204, 866]\n",
            "318 [1237, 1178, 1204]\n",
            "319 [1204, 260, 4973]\n",
            "320 [1221, 1197, 750]\n",
            "321 [2959, 750, 953]\n",
            "322 [3949, 1198, 1242]\n",
            "323 [858, 4011, 898]\n",
            "324 [112552, 7153, 1245]\n",
            "325 [50, 4973, 1206]\n",
            "326 [1208, 1283, 1221]\n",
            "327 [3435, 1283, 4973]\n",
            "328 [27731, 2324, 1235]\n",
            "329 [110, 1245, 953]\n",
            "330 [168252, 899, 1249]\n",
            "331 [741, 1242, 951]\n",
            "332 [260, 1221, 1198]\n",
            "333 [4993, 1262, 1732]\n",
            "334 [50, 1204, 1197]\n",
            "335 [527, 1148, 58559]\n",
            "336 [1197, 142488, 1266]\n",
            "337 [1136, 1213, 914]\n",
            "338 [6, 475, 2318]\n",
            "339 [912, 1250, 914]\n",
            "340 [2959, 4973, 1198]\n",
            "341 [50, 1104, 1193]\n",
            "342 [1222, 750, 1213]\n",
            "343 [908, 1217, 7361]\n",
            "344 [922, 590, 58559]\n",
            "345 [318, 1228, 904]\n",
            "346 [7361, 1178, 541]\n",
            "347 [912, 1104, 1217]\n",
            "348 [1197, 1201, 27773]\n",
            "349 [1258, 1104, 4973]\n",
            "350 [7153, 912, 1250]\n",
            "351 [750, 318, 1217]\n",
            "352 [858, 1208, 953]\n",
            "353 [750, 260, 922]\n",
            "354 [1197, 1217, 1258]\n",
            "355 [318, 2959, 750]\n",
            "356 [1204, 1221, 608]\n",
            "357 [1204, 1193, 1228]\n",
            "358 [110, 1228, 1276]\n",
            "359 [1245, 951, 1217]\n",
            "360 [293, 4973, 2959]\n",
            "361 [1209, 922, 1283]\n",
            "362 [1197, 3275, 904]\n",
            "363 [4973, 1276, 112552]\n",
            "364 [318, 908, 356]\n",
            "365 [4720, 1283, 31364]\n",
            "366 [318, 1204, 1217]\n",
            "367 [2571, 1411, 441]\n",
            "368 [1136, 1204, 318]\n",
            "369 [858, 50, 750]\n",
            "370 [3468, 1272, 912]\n",
            "371 [50, 260, 356]\n",
            "372 [3114, 1104, 2324]\n",
            "373 [2959, 750, 3552]\n",
            "374 [898, 1136, 1204]\n",
            "375 [296, 4973, 2959]\n",
            "376 [56782, 2360, 3703]\n",
            "377 [541, 1732, 1196]\n",
            "378 [1104, 1204, 1283]\n",
            "379 [1204, 1945, 904]\n",
            "380 [1262, 4973, 741]\n",
            "381 [908, 1278, 74458]\n",
            "382 [1104, 4011, 1136]\n",
            "383 [318, 56782, 922]\n",
            "384 [260, 318, 4226]\n",
            "385 [2959, 1884, 1089]\n",
            "386 [34405, 1104, 1204]\n",
            "387 [34, 5995, 1217]\n",
            "388 [593, 2858, 4993]\n",
            "389 [441, 2959, 750]\n",
            "390 [318, 1104, 5952]\n",
            "391 [1275, 1203, 1411]\n",
            "392 [750, 1204, 318]\n",
            "393 [246, 608, 1104]\n",
            "394 [318, 750, 912]\n",
            "395 [318, 541, 1104]\n",
            "396 [1198, 750, 1104]\n",
            "397 [1136, 1283, 1208]\n",
            "398 [1204, 527, 2160]\n",
            "399 [318, 34405, 858]\n",
            "400 [2324, 1223, 475]\n",
            "401 [1204, 4011, 720]\n",
            "402 [922, 2248, 750]\n",
            "403 [318, 1204, 1104]\n",
            "404 [1248, 750, 1197]\n",
            "405 [318, 1217, 158966]\n",
            "406 [2858, 68157, 1204]\n",
            "407 [318, 1217, 527]\n",
            "408 [1217, 1178, 1204]\n",
            "409 [71899, 1884, 112552]\n",
            "410 [38061, 3147, 27773]\n",
            "411 [2571, 7371, 1217]\n",
            "412 [318, 912, 1204]\n",
            "413 [919, 1210, 908]\n",
            "414 [2288, 1203, 1411]\n",
            "415 [1104, 1208, 527]\n",
            "416 [1258, 104879, 1193]\n",
            "417 [1197, 1196, 50]\n",
            "418 [1208, 904, 858]\n",
            "419 [1394, 926, 1247]\n",
            "420 [50, 1104, 1217]\n",
            "421 [2959, 1148, 4973]\n",
            "422 [1262, 1217, 1089]\n",
            "423 [2324, 2571, 1197]\n",
            "424 [1247, 1283, 1387]\n",
            "425 [1217, 1204, 1356]\n",
            "426 [910, 112552, 1272]\n",
            "427 [260, 318, 27773]\n",
            "428 [27773, 56782, 858]\n",
            "429 [4973, 27773, 57669]\n",
            "430 [4993, 1204, 541]\n",
            "431 [260, 858, 318]\n",
            "432 [3703, 56782, 7361]\n",
            "433 [1217, 4011, 1172]\n",
            "434 [50, 4973, 1201]\n",
            "435 [3451, 1245, 1215]\n",
            "436 [260, 1250, 1210]\n",
            "437 [750, 593, 858]\n",
            "438 [750, 112552, 541]\n",
            "439 [1204, 912, 4973]\n",
            "440 [2959, 318, 4973]\n",
            "441 [1283, 750, 3451]\n",
            "442 [2959, 1208, 1148]\n",
            "443 [1252, 912, 1283]\n",
            "444 [2858, 750, 541]\n",
            "445 [1178, 1210, 4306]\n",
            "446 [1204, 1203, 4973]\n",
            "447 [608, 1945, 1266]\n",
            "448 [1272, 741, 1104]\n",
            "449 [296, 1178, 858]\n",
            "450 [750, 1617, 318]\n",
            "451 [4226, 4973, 922]\n",
            "452 [50, 296, 441]\n",
            "453 [1222, 1201, 924]\n",
            "454 [4973, 908, 5617]\n",
            "455 [750, 1217, 260]\n",
            "456 [858, 750, 593]\n",
            "457 [3703, 750, 2761]\n",
            "458 [3147, 318, 720]\n",
            "459 [1217, 1213, 80906]\n",
            "460 [2324, 1283, 953]\n",
            "461 [1104, 4973, 1217]\n",
            "462 [2700, 7361, 1193]\n",
            "463 [2959, 260, 1178]\n",
            "464 [1245, 750, 1104]\n",
            "465 [318, 2858, 50]\n",
            "466 [1235, 922, 148626]\n",
            "467 [50, 296, 858]\n",
            "468 [750, 1204, 2324]\n",
            "469 [2959, 27156, 1411]\n",
            "470 [750, 1198, 922]\n",
            "471 [2329, 1104, 593]\n",
            "472 [1213, 1235, 1201]\n",
            "473 [57669, 50, 1104]\n",
            "474 [4011, 72641, 1287]\n",
            "475 [356, 1197, 1208]\n",
            "476 [1204, 898, 1945]\n",
            "477 [3949, 1235, 3703]\n",
            "478 [58559, 2324, 318]\n",
            "479 [541, 720, 750]\n",
            "480 [79132, 1035, 308]\n",
            "481 [1276, 1228, 110]\n",
            "482 [1210, 260, 1197]\n",
            "483 [6, 1104, 750]\n",
            "484 [2571, 899, 1210]\n",
            "485 [112552, 3508, 919]\n",
            "486 [1204, 2959, 1945]\n",
            "487 [4226, 1196, 1204]\n",
            "488 [1204, 951, 858]\n",
            "489 [858, 1222, 441]\n",
            "490 [858, 50, 27773]\n",
            "491 [318, 1204, 750]\n",
            "492 [1209, 1204, 750]\n",
            "493 [527, 2959, 1148]\n",
            "494 [1208, 1394, 912]\n",
            "495 [1080, 750, 541]\n",
            "496 [50, 1104, 34405]\n",
            "497 [1245, 541, 1283]\n",
            "498 [56782, 904, 899]\n",
            "499 [50, 1283, 593]\n",
            "500 [1276, 953, 1104]\n",
            "501 [318, 356, 1217]\n",
            "502 [260, 1196, 2502]\n",
            "503 [1136, 1104, 1204]\n",
            "504 [898, 318, 50]\n",
            "505 [912, 2324, 750]\n",
            "506 [4973, 318, 356]\n",
            "507 [318, 898, 1203]\n",
            "508 [1198, 2571, 6]\n",
            "509 [318, 750, 1945]\n",
            "510 [720, 1250, 1272]\n",
            "511 [260, 1104, 750]\n",
            "512 [2571, 4973, 1411]\n",
            "513 [4993, 58559, 50]\n",
            "514 [858, 912, 56782]\n",
            "515 [296, 1197, 1198]\n",
            "516 [4973, 1204, 750]\n",
            "517 [1357, 922, 46976]\n",
            "518 [3451, 1197, 2324]\n",
            "519 [2959, 1104, 1196]\n",
            "520 [58559, 1221, 1394]\n",
            "521 [318, 1217, 750]\n",
            "522 [56782, 3468, 1209]\n",
            "523 [441, 593, 919]\n",
            "524 [3703, 1945, 2571]\n",
            "525 [904, 858, 1104]\n",
            "526 [750, 1945, 2360]\n",
            "527 [2959, 1283, 68954]\n",
            "528 [720, 318, 1266]\n",
            "529 [318, 1089, 904]\n",
            "530 [1245, 908, 318]\n",
            "531 [1217, 7153, 912]\n",
            "532 [4226, 912, 1276]\n",
            "533 [50, 1196, 1210]\n",
            "534 [1204, 27773, 914]\n",
            "535 [50, 1136, 7361]\n",
            "536 [318, 3508, 858]\n",
            "537 [1272, 1172, 1884]\n",
            "538 [593, 318, 914]\n",
            "539 [750, 2542, 858]\n",
            "540 [1204, 50, 898]\n",
            "541 [2571, 56782, 105504]\n",
            "542 [260, 750, 1203]\n",
            "543 [47, 260, 457]\n",
            "544 [750, 2318, 1197]\n",
            "545 [1197, 112552, 904]\n",
            "546 [7361, 2700, 1204]\n",
            "547 [356, 318, 953]\n",
            "548 [1411, 6711, 1283]\n",
            "549 [1204, 1945, 356]\n",
            "550 [741, 1204, 750]\n",
            "551 [3508, 4011, 105504]\n",
            "552 [4226, 912, 1089]\n",
            "553 [750, 1204, 318]\n",
            "554 [4306, 1270, 318]\n",
            "555 [858, 49272, 1201]\n",
            "556 [3275, 318, 356]\n",
            "557 [3451, 356, 1217]\n",
            "558 [4973, 3201, 5618]\n",
            "559 [750, 1217, 1250]\n",
            "560 [318, 750, 1411]\n",
            "561 [541, 858, 750]\n",
            "562 [4973, 46578, 2324]\n",
            "563 [50, 4973, 750]\n",
            "564 [1204, 1945, 912]\n",
            "565 [4973, 1204, 2160]\n",
            "566 [1204, 2324, 1104]\n",
            "567 [1276, 6460, 1272]\n",
            "568 [858, 2571, 318]\n",
            "569 [1198, 951, 898]\n",
            "570 [1217, 56782, 106642]\n",
            "571 [3451, 1204, 48516]\n",
            "572 [47, 3435, 2324]\n",
            "573 [720, 898, 750]\n",
            "574 [3451, 1204, 1945]\n",
            "575 [318, 356, 1198]\n",
            "576 [1198, 1197, 2324]\n",
            "577 [27773, 922, 898]\n",
            "578 [1250, 1228, 4973]\n",
            "579 [1204, 912, 1283]\n",
            "580 [1285, 99114, 44761]\n",
            "581 [750, 56782, 912]\n",
            "582 [1221, 3468, 741]\n",
            "583 [318, 953, 1276]\n",
            "584 [919, 81845, 1221]\n",
            "585 [750, 260, 50]\n",
            "586 [1197, 3703, 750]\n",
            "587 [904, 778, 1201]\n",
            "588 [858, 4011, 4973]\n",
            "589 [2324, 260, 858]\n",
            "590 [1104, 720, 5618]\n",
            "591 [2160, 3451, 318]\n",
            "592 [2571, 1204, 58559]\n",
            "593 [1193, 1245, 1198]\n",
            "594 [112552, 4144, 838]\n",
            "595 [56782, 318, 1228]\n",
            "596 [750, 1204, 2324]\n",
            "597 [527, 2571, 720]\n",
            "598 [914, 923, 1213]\n",
            "599 [527, 57669, 3508]\n",
            "600 [1281, 1080, 7156]\n",
            "601 [1272, 1266, 1213]\n",
            "602 [1196, 1270, 1266]\n",
            "603 [6874, 8638, 1277]\n",
            "604 [1204, 904, 1104]\n",
            "605 [898, 951, 1217]\n",
            "606 [1203, 1197, 1242]\n",
            "607 [1233, 2160, 79132]\n",
            "608 [1374, 904, 6711]\n",
            "609 [750, 1204, 2324]\n",
            "610 [2700, 112552, 1148]\n"
          ],
          "name": "stdout"
        }
      ]
    },
    {
      "cell_type": "code",
      "metadata": {
        "id": "83QWD0gBcbvH"
      },
      "source": [
        ""
      ],
      "execution_count": 110,
      "outputs": []
    }
  ]
}