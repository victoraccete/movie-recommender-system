{
  "nbformat": 4,
  "nbformat_minor": 0,
  "metadata": {
    "colab": {
      "name": "Movies Recommendation Engine - Coursera [Starter]",
      "provenance": [],
      "collapsed_sections": [],
      "toc_visible": true
    },
    "kernelspec": {
      "name": "python3",
      "display_name": "Python 3"
    }
  },
  "cells": [
    {
      "cell_type": "markdown",
      "metadata": {
        "id": "u_0oQaUOA9CI",
        "colab_type": "text"
      },
      "source": [
        "# Task 1: Introduction\n",
        "\n",
        "![Movies Collage](https://i.imgur.com/T7V0VZ6.png)\n",
        "\n",
        "For this project we are going to create a recommendation engine for movies for users based on there past behaviour.\n",
        "\n",
        "---\n",
        "\n",
        "We will focus on the **collaborative filtering** approach, that is: \n",
        "\n",
        "The user is recommended items that people with similar tastes and preferences liked in the past. In another word, this method predicts unknown ratings by using the similarities between users.\n",
        "\n",
        "---\n",
        "\n",
        "Note: This notebook uses `python 3` and these packages: `pandas`, `numpy`, `matplotlib` and `scikit-surprise`\n",
        "\n",
        "We can install them using:\n",
        "```Shell\n",
        "pip3 install pandas matplotlib numpy scikit-surprise\n",
        "```"
      ]
    },
    {
      "cell_type": "markdown",
      "metadata": {
        "id": "eMZcgcQsm-9y",
        "colab_type": "text"
      },
      "source": [
        "## 1.1: Installing Libraries"
      ]
    },
    {
      "cell_type": "code",
      "metadata": {
        "id": "HNmYMKhCnITm",
        "colab_type": "code",
        "colab": {}
      },
      "source": [
        "print('>> Installing Libraries')\n",
        "\n",
        "\n",
        "\n",
        "print('>> Libraries Installed')"
      ],
      "execution_count": null,
      "outputs": []
    },
    {
      "cell_type": "markdown",
      "metadata": {
        "id": "FYwbN6KqJjPo",
        "colab_type": "text"
      },
      "source": [
        "## 1.2: Importing Libraries\n",
        "\n",
        "First of all, we will need to import some libraries. This includes surprise which we will use to create the recommendation system."
      ]
    },
    {
      "cell_type": "code",
      "metadata": {
        "id": "5OGYBAjxAzLC",
        "colab_type": "code",
        "colab": {}
      },
      "source": [
        "print('>> Importing Libraries')\n",
        "\n",
        "import pandas as pd\n",
        "\n",
        "from surprise import Reader, Dataset, SVD\n",
        "\n",
        "from surprise.accuracy import rmse, mae\n",
        "from surprise.model_selection import cross_validate\n",
        "\n",
        "print('>> Libraries imported.')"
      ],
      "execution_count": null,
      "outputs": []
    },
    {
      "cell_type": "markdown",
      "metadata": {
        "id": "Zg9d8GR6A_rr",
        "colab_type": "text"
      },
      "source": [
        "# Task 2: Importing Data\n",
        "\n",
        "We will use open-source dataset from GroupLens Research ([movielens.org](http://movielens.org))"
      ]
    },
    {
      "cell_type": "markdown",
      "metadata": {
        "id": "vS0k5tdWKSfZ",
        "colab_type": "text"
      },
      "source": [
        "## 2.1: Importing the Data\n",
        "\n",
        "The dataset is saved in a `ratings.csv` file. We will use pandas to take a look at some of the rows."
      ]
    },
    {
      "cell_type": "code",
      "metadata": {
        "id": "3lbOmdPwKsPm",
        "colab_type": "code",
        "colab": {}
      },
      "source": [
        ""
      ],
      "execution_count": null,
      "outputs": []
    },
    {
      "cell_type": "markdown",
      "metadata": {
        "id": "GvUhDQIgLOEY",
        "colab_type": "text"
      },
      "source": [
        "## 2.2 Dropping timestamp\n",
        "\n",
        "We won't be using the timestamp when user gave the particular rating. So we will drop that column."
      ]
    },
    {
      "cell_type": "code",
      "metadata": {
        "id": "TXvWh3duLjiP",
        "colab_type": "code",
        "colab": {}
      },
      "source": [
        ""
      ],
      "execution_count": null,
      "outputs": []
    },
    {
      "cell_type": "markdown",
      "metadata": {
        "id": "OPEBn0gAK-5m",
        "colab_type": "text"
      },
      "source": [
        "## 2.3 Check for Missing Data\n",
        "\n",
        "It's a good practice to check if the data has any missing values. In real world data, this is quite common and must be taken care of before any data pre-processing or model training."
      ]
    },
    {
      "cell_type": "code",
      "metadata": {
        "id": "BfBqk7KkLFV6",
        "colab_type": "code",
        "colab": {}
      },
      "source": [
        ""
      ],
      "execution_count": null,
      "outputs": []
    },
    {
      "cell_type": "markdown",
      "metadata": {
        "id": "FQYVA-J5MCUG",
        "colab_type": "text"
      },
      "source": [
        "# Task 3: EDA (Exploratory data analysis)\n",
        "\n",
        "In statistics, exploratory data analysis is an approach to analyzing data sets to summarize their main characteristics."
      ]
    },
    {
      "cell_type": "markdown",
      "metadata": {
        "id": "XJ0CD6ZiOpRI",
        "colab_type": "text"
      },
      "source": [
        "## 3.1 Number of movies/users"
      ]
    },
    {
      "cell_type": "code",
      "metadata": {
        "id": "vnEIeAO6Psj2",
        "colab_type": "code",
        "colab": {}
      },
      "source": [
        ""
      ],
      "execution_count": null,
      "outputs": []
    },
    {
      "cell_type": "markdown",
      "metadata": {
        "id": "dclqP0iXOo_F",
        "colab_type": "text"
      },
      "source": [
        "## 3.2 Sparsity of our data\n",
        "\n",
        "Sparsity (%) = `(No of missing values/ (Total Values))X100`"
      ]
    },
    {
      "cell_type": "code",
      "metadata": {
        "id": "xPYF0zlfREMK",
        "colab_type": "code",
        "colab": {}
      },
      "source": [
        ""
      ],
      "execution_count": null,
      "outputs": []
    },
    {
      "cell_type": "markdown",
      "metadata": {
        "id": "kcYDLtG5Ok_p",
        "colab_type": "text"
      },
      "source": [
        "## 3.3 Ratings Distribution"
      ]
    },
    {
      "cell_type": "code",
      "metadata": {
        "id": "ZO7Mv-jdL4_z",
        "colab_type": "code",
        "colab": {}
      },
      "source": [
        ""
      ],
      "execution_count": null,
      "outputs": []
    },
    {
      "cell_type": "markdown",
      "metadata": {
        "id": "xdLsIItxSd9K",
        "colab_type": "text"
      },
      "source": [
        "# Task 4: Dimensionality Reduction\n",
        "\n",
        "To reduce the dimensionality of the dataset, we will filter out rarely rated movies and rarely rating users"
      ]
    },
    {
      "cell_type": "markdown",
      "metadata": {
        "id": "i3jYt3m5TNVL",
        "colab_type": "text"
      },
      "source": [
        "## 4.1 Filter movies with less than 3 ratings"
      ]
    },
    {
      "cell_type": "code",
      "metadata": {
        "id": "msZU9YSxSeUo",
        "colab_type": "code",
        "colab": {}
      },
      "source": [
        ""
      ],
      "execution_count": null,
      "outputs": []
    },
    {
      "cell_type": "markdown",
      "metadata": {
        "id": "IYaMxlXcTdGS",
        "colab_type": "text"
      },
      "source": [
        "## 4.2 Filter users with less than 3 movies rated"
      ]
    },
    {
      "cell_type": "code",
      "metadata": {
        "id": "WPeNAggIS-Y_",
        "colab_type": "code",
        "colab": {}
      },
      "source": [
        ""
      ],
      "execution_count": null,
      "outputs": []
    },
    {
      "cell_type": "markdown",
      "metadata": {
        "id": "c2LFIAGXT3ro",
        "colab_type": "text"
      },
      "source": [
        "## 4.3 Remove rarely rated movies and rarely rating users"
      ]
    },
    {
      "cell_type": "code",
      "metadata": {
        "id": "tTUG4ao6S_x7",
        "colab_type": "code",
        "colab": {}
      },
      "source": [
        ""
      ],
      "execution_count": null,
      "outputs": []
    },
    {
      "cell_type": "markdown",
      "metadata": {
        "id": "TbviZWiPM3jQ",
        "colab_type": "text"
      },
      "source": [
        "# Task 5: Create Training and Test Sets"
      ]
    },
    {
      "cell_type": "markdown",
      "metadata": {
        "id": "TIK2L0VuhbgA",
        "colab_type": "text"
      },
      "source": [
        "## 5.1 Columns used for training"
      ]
    },
    {
      "cell_type": "code",
      "metadata": {
        "id": "bXF4dmJKhF7q",
        "colab_type": "code",
        "colab": {}
      },
      "source": [
        ""
      ],
      "execution_count": null,
      "outputs": []
    },
    {
      "cell_type": "markdown",
      "metadata": {
        "id": "J8rylnJmUjYk",
        "colab_type": "text"
      },
      "source": [
        "## 5.2 Create surprise dataset"
      ]
    },
    {
      "cell_type": "code",
      "metadata": {
        "id": "4UOTMUssM6Tw",
        "colab_type": "code",
        "colab": {}
      },
      "source": [
        ""
      ],
      "execution_count": null,
      "outputs": []
    },
    {
      "cell_type": "markdown",
      "metadata": {
        "id": "8lM--CdvguDz",
        "colab_type": "text"
      },
      "source": [
        "## 5.3 Create Train-set and Prediction-set"
      ]
    },
    {
      "cell_type": "code",
      "metadata": {
        "id": "heITVvtvU1FD",
        "colab_type": "code",
        "colab": {}
      },
      "source": [
        ""
      ],
      "execution_count": null,
      "outputs": []
    },
    {
      "cell_type": "markdown",
      "metadata": {
        "id": "AYfhHDReuO5h",
        "colab_type": "text"
      },
      "source": [
        "# Task 6: Creating and training the model"
      ]
    },
    {
      "cell_type": "markdown",
      "metadata": {
        "id": "R4e28tFHubv9",
        "colab_type": "text"
      },
      "source": [
        "## 6.1 Creating the model\n",
        "\n",
        "**SVD (Singular Value Decomposition)**\n",
        "\n",
        "Interaction Matrix = A X B X C"
      ]
    },
    {
      "cell_type": "code",
      "metadata": {
        "id": "Ft4rS3L-hqeS",
        "colab_type": "code",
        "colab": {}
      },
      "source": [
        ""
      ],
      "execution_count": null,
      "outputs": []
    },
    {
      "cell_type": "markdown",
      "metadata": {
        "id": "h_16sRpXwahF",
        "colab_type": "text"
      },
      "source": [
        "## 6.2 Training the model\n",
        "\n",
        "**Mean Absolute Error (MAE)**: MAE measures the average magnitude of the errors in a set of predictions, without considering their direction. \n",
        "\n",
        "**Root mean squared error (RMSE)**:  RMSE is the square root of the average of squared differences between prediction and actual observation."
      ]
    },
    {
      "cell_type": "code",
      "metadata": {
        "id": "nh-E5DS5wYe_",
        "colab_type": "code",
        "colab": {}
      },
      "source": [
        ""
      ],
      "execution_count": null,
      "outputs": []
    },
    {
      "cell_type": "markdown",
      "metadata": {
        "id": "zTnqbNt_xkKS",
        "colab_type": "text"
      },
      "source": [
        "# Task 7: Predictions"
      ]
    },
    {
      "cell_type": "markdown",
      "metadata": {
        "id": "ma3oQr1Ax_Hg",
        "colab_type": "text"
      },
      "source": [
        "## 7.1 Predict ratings for all pairs (user, items) that are NOT in the training set."
      ]
    },
    {
      "cell_type": "code",
      "metadata": {
        "id": "_K3EmIs3wxhW",
        "colab_type": "code",
        "colab": {}
      },
      "source": [
        ""
      ],
      "execution_count": null,
      "outputs": []
    },
    {
      "cell_type": "code",
      "metadata": {
        "id": "RkqiEwM9z4Jf",
        "colab_type": "code",
        "colab": {}
      },
      "source": [
        ""
      ],
      "execution_count": null,
      "outputs": []
    },
    {
      "cell_type": "markdown",
      "metadata": {
        "id": "lRmzGn63ze8b",
        "colab_type": "text"
      },
      "source": [
        "## 7.2 Recommending top 3 movies movies based on predictions"
      ]
    },
    {
      "cell_type": "code",
      "metadata": {
        "id": "q3Ugauv0119g",
        "colab_type": "code",
        "colab": {}
      },
      "source": [
        ""
      ],
      "execution_count": null,
      "outputs": []
    }
  ]
}